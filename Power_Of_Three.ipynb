{
  "nbformat": 4,
  "nbformat_minor": 0,
  "metadata": {
    "colab": {
      "provenance": [],
      "authorship_tag": "ABX9TyMoSMW2SwC39Z1gn8BBrsHD",
      "include_colab_link": true
    },
    "kernelspec": {
      "name": "python3",
      "display_name": "Python 3"
    },
    "language_info": {
      "name": "python"
    }
  },
  "cells": [
    {
      "cell_type": "markdown",
      "metadata": {
        "id": "view-in-github",
        "colab_type": "text"
      },
      "source": [
        "<a href=\"https://colab.research.google.com/github/fishitmo/LeetCode/blob/main/Power_Of_Three.ipynb\" target=\"_parent\"><img src=\"https://colab.research.google.com/assets/colab-badge.svg\" alt=\"Open In Colab\"/></a>"
      ]
    },
    {
      "cell_type": "markdown",
      "source": [
        "Example 1:\n",
        "\n",
        "Input: n = 27\n",
        "Output: true\n",
        "Explanation: 27 = 3^3\n",
        "\n",
        "\n",
        "Example 2:\n",
        "\n",
        "Input: n = 0\n",
        "Output: false\n",
        "Explanation: There is no x where 3x = 0.\n",
        "\n",
        "Example 3:\n",
        "\n",
        "Input: n = -1\n",
        "Output: false\n",
        "Explanation: There is no x where 3x = (-1).\n",
        "\n",
        "Constraints:\n",
        "\n",
        "-2^31 <= n <= 2^31 - 1\n",
        "\n",
        "Follow up: Could you solve it without loops/recursion?\n",
        "\n"
      ],
      "metadata": {
        "id": "d-cJ_iNyAncJ"
      }
    },
    {
      "cell_type": "code",
      "execution_count": 1,
      "metadata": {
        "id": "mcOsOIbDAVDP"
      },
      "outputs": [],
      "source": [
        "class Solution:\n",
        "    def isPowerOfThree(self, n: int) -> bool:\n",
        "        if n <= 0:\n",
        "            return False\n",
        "        while n % 3 == 0:\n",
        "            n /= 3\n",
        "        return n == 1"
      ]
    },
    {
      "cell_type": "code",
      "source": [
        "sol = Solution()\n",
        "\n",
        "pow = input('Enter an integer that needs to check for the power of three: ')\n",
        "\n",
        "print(f'Is {pow} a power of three? Answer {sol.isPowerOfThree(int(pow))}')"
      ],
      "metadata": {
        "colab": {
          "base_uri": "https://localhost:8080/"
        },
        "id": "SAN4DInRB9-a",
        "outputId": "357a02bb-8597-47ad-adc4-2f2703bfd3b5"
      },
      "execution_count": 6,
      "outputs": [
        {
          "output_type": "stream",
          "name": "stdout",
          "text": [
            "Enter an integer that needs to check for the power of three: 81\n",
            "Is 81 a power of three? Answer True\n"
          ]
        }
      ]
    }
  ]
}