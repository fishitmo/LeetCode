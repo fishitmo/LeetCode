{
  "nbformat": 4,
  "nbformat_minor": 0,
  "metadata": {
    "colab": {
      "provenance": [],
      "authorship_tag": "ABX9TyOa10kOCBYbcAhIaOMNe1VB",
      "include_colab_link": true
    },
    "kernelspec": {
      "name": "python3",
      "display_name": "Python 3"
    },
    "language_info": {
      "name": "python"
    }
  },
  "cells": [
    {
      "cell_type": "markdown",
      "metadata": {
        "id": "view-in-github",
        "colab_type": "text"
      },
      "source": [
        "<a href=\"https://colab.research.google.com/github/fishitmo/LeetCode/blob/main/Power_Of_Four.ipynb\" target=\"_parent\"><img src=\"https://colab.research.google.com/assets/colab-badge.svg\" alt=\"Open In Colab\"/></a>"
      ]
    },
    {
      "cell_type": "markdown",
      "source": [
        "Given an integer n, return true if it is a power of four. Otherwise, return false.\n",
        "\n",
        "An integer n is a power of four if there exists an integer x such that n == 4^x.\n",
        "\n",
        "Example 1:\n",
        "\n",
        "Input: n = 16\n",
        "Output: true\n",
        "\n",
        "\n",
        "Example 2:\n",
        "\n",
        "Input: n = 5\n",
        "Output: false\n",
        "\n",
        "\n",
        "Example 3:\n",
        "\n",
        "Input: n = 1\n",
        "Output: true\n",
        "\n",
        "Constraints:\n",
        "\n",
        "-2^31 <= n <= 2^31 - 1\n",
        "\n",
        "Follow up: Could you solve it without loops/recursion?\n"
      ],
      "metadata": {
        "id": "wzi37Z0YE88M"
      }
    },
    {
      "cell_type": "code",
      "source": [
        "class Solution:\n",
        "    def isPowerOfFour(self, n: int) -> bool:\n",
        "        if n <= 0:\n",
        "            return False\n",
        "        while n % 4 == 0:\n",
        "            n /=4\n",
        "        return n==1"
      ],
      "metadata": {
        "id": "c_36GW4GE6Eg"
      },
      "execution_count": 2,
      "outputs": []
    },
    {
      "cell_type": "code",
      "source": [
        "sol = Solution()\n",
        "\n",
        "pow = input('Enter an integer that needs to check for th power of four: ')\n",
        "\n",
        "print(f'Is {pow} a power of four? Answer: {sol.isPowerOfFour(int(pow))}')"
      ],
      "metadata": {
        "colab": {
          "base_uri": "https://localhost:8080/"
        },
        "id": "F2P0VhORFpJF",
        "outputId": "1aaf6cd7-7344-4426-ff9b-d1687b151a90"
      },
      "execution_count": 3,
      "outputs": [
        {
          "output_type": "stream",
          "name": "stdout",
          "text": [
            "Enter an integer that needs to check for th power of four: 16\n",
            "Is 16 a power of four? Answer: True\n"
          ]
        }
      ]
    }
  ]
}