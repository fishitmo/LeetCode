{
  "nbformat": 4,
  "nbformat_minor": 0,
  "metadata": {
    "colab": {
      "provenance": [],
      "authorship_tag": "ABX9TyMYDZhM5r5KQBSWlFDHLazG",
      "include_colab_link": true
    },
    "kernelspec": {
      "name": "python3",
      "display_name": "Python 3"
    },
    "language_info": {
      "name": "python"
    }
  },
  "cells": [
    {
      "cell_type": "markdown",
      "metadata": {
        "id": "view-in-github",
        "colab_type": "text"
      },
      "source": [
        "<a href=\"https://colab.research.google.com/github/fishitmo/LeetCode/blob/main/Integer_Break.ipynb\" target=\"_parent\"><img src=\"https://colab.research.google.com/assets/colab-badge.svg\" alt=\"Open In Colab\"/></a>"
      ]
    },
    {
      "cell_type": "markdown",
      "source": [
        "Given an integer n, break it into the sum of k positive integers, where k >= 2, and maximize the product of those integers.\n",
        "\n",
        "Return the maximum product you can get.\n",
        "\n",
        "**Example 1:**\n",
        "\n",
        "Input: n = 2\n",
        "Output: 1\n",
        "Explanation: 2 = 1 + 1, 1 × 1 = 1.\n",
        "\n",
        "**Example 2:**\n",
        "\n",
        "Input: n = 10\n",
        "Output: 36\n",
        "Explanation: 10 = 3 + 3 + 4, 3 × 3 × 4 = 36.\n",
        "\n",
        "**Constraints:**\n",
        "\n",
        "2 <= n <= 58\n"
      ],
      "metadata": {
        "id": "UghsOV4XuEK_"
      }
    },
    {
      "cell_type": "code",
      "execution_count": 1,
      "metadata": {
        "id": "QyP9UnsOt88b"
      },
      "outputs": [],
      "source": [
        "class Solution:\n",
        "    def integerBreak(self, n: int) -> int:\n",
        "        if n == 2:\n",
        "            return 1\n",
        "        if n == 3:\n",
        "            return 2\n",
        "        dp = [0]*(n+1)\n",
        "        dp[2] = 2\n",
        "        dp[3] = 3\n",
        "        for i in range(4, n+1):\n",
        "            dp[i] = max(2*dp[i-2], 3*dp[i-3])\n",
        "        return dp[n]"
      ]
    },
    {
      "cell_type": "code",
      "source": [
        "sol = Solution()\n",
        "\n",
        "maxpro = input(\"Enter an integer, which needs to break it into the sum of k positive integers , where k >= 2, and maximize the product of those integers: \")\n",
        "\n",
        "print(f'The maximum product of those integers which breaks it from {maxpro} into the sum of k positive integers is: {sol.integerBreak(int(maxpro))} ')"
      ],
      "metadata": {
        "colab": {
          "base_uri": "https://localhost:8080/"
        },
        "id": "RvCex1vYJloA",
        "outputId": "844b1406-113b-40d8-c7cf-0521354da0e9"
      },
      "execution_count": 2,
      "outputs": [
        {
          "output_type": "stream",
          "name": "stdout",
          "text": [
            "Enter an integer, which needs to break it into the sum of k positive integers , where k >= 2, and maximize the product of those integers: 10\n",
            "The maximum product of those integers which breaks it from 10 into the sum of k positive integers is: 36 \n"
          ]
        }
      ]
    }
  ]
}