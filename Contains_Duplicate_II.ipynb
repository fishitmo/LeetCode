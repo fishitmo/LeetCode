{
  "nbformat": 4,
  "nbformat_minor": 0,
  "metadata": {
    "colab": {
      "provenance": [],
      "authorship_tag": "ABX9TyOvfoz2PqoEl7/OghwwLiCH",
      "include_colab_link": true
    },
    "kernelspec": {
      "name": "python3",
      "display_name": "Python 3"
    },
    "language_info": {
      "name": "python"
    }
  },
  "cells": [
    {
      "cell_type": "markdown",
      "metadata": {
        "id": "view-in-github",
        "colab_type": "text"
      },
      "source": [
        "<a href=\"https://colab.research.google.com/github/fishitmo/LeetCode/blob/main/Contains_Duplicate_II.ipynb\" target=\"_parent\"><img src=\"https://colab.research.google.com/assets/colab-badge.svg\" alt=\"Open In Colab\"/></a>"
      ]
    },
    {
      "cell_type": "markdown",
      "source": [
        "Given an integer array `nums` and an integer `k`, return true if there are two distinct indices `i` and `j` in the array such that `nums[i] == nums[j]` and `abs(i - j) <= k`.\n",
        "\n",
        "**Example 1:**\n",
        "\n",
        "Input: `nums = [1,2,3,1]`, `k = 3`\n",
        "Output: `true`\n",
        "\n",
        "**Example 2:**\n",
        "\n",
        "Input: `nums = [1,0,1,1]`, `k = 1`\n",
        "Output: `true`\n",
        "\n",
        "**Example 3:**\n",
        "\n",
        "Input: `nums = [1,2,3,1,2,3]`, `k = 2`\n",
        "Output: `false`\n",
        "\n",
        "**Constraints:**\n",
        "\n",
        "- `1 <= nums.length <= 10^5`\n",
        "- `-10^9 <= nums[i] <= 10^9`\n",
        "- `0 <= k <= 10^5`\n"
      ],
      "metadata": {
        "id": "AGcW8V24q8Im"
      }
    },
    {
      "cell_type": "code",
      "execution_count": 3,
      "metadata": {
        "id": "B7PMX4Y-qu6J"
      },
      "outputs": [],
      "source": [
        "from typing import List\n",
        "\n",
        "class Solution:\n",
        "  def conatinsNearbyDuplicate(self, nums: List[int], k: int) -> bool:\n",
        "    seen = dict()\n",
        "    for i, num in enumerate(nums):\n",
        "        if num in seen and i - seen[num] <= k:\n",
        "          return True\n",
        "        seen[num] = i\n",
        "    return False"
      ]
    },
    {
      "cell_type": "code",
      "source": [
        "sol = Solution()\n",
        "\n",
        "nums1 = [1, 2, 3, 1]\n",
        "k1 = 3\n",
        "\n",
        "print(f'From given integer array {nums1} and an integer {k1} it satisfied the condition is {sol.conatinsNearbyDuplicate(nums1, k1)}')\n"
      ],
      "metadata": {
        "colab": {
          "base_uri": "https://localhost:8080/"
        },
        "id": "Z155WCWtC9op",
        "outputId": "a41d6416-ff48-43f3-894e-254cc4b6f822"
      },
      "execution_count": 6,
      "outputs": [
        {
          "output_type": "stream",
          "name": "stdout",
          "text": [
            "From given integer array [1, 2, 3, 1] and an integer 3 it satisfied the condition is True\n"
          ]
        }
      ]
    }
  ]
}