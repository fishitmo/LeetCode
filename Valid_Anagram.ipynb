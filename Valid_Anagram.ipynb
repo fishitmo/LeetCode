{
  "nbformat": 4,
  "nbformat_minor": 0,
  "metadata": {
    "colab": {
      "provenance": [],
      "authorship_tag": "ABX9TyNeNTsVcaP/62puk6wUwE10",
      "include_colab_link": true
    },
    "kernelspec": {
      "name": "python3",
      "display_name": "Python 3"
    },
    "language_info": {
      "name": "python"
    }
  },
  "cells": [
    {
      "cell_type": "markdown",
      "metadata": {
        "id": "view-in-github",
        "colab_type": "text"
      },
      "source": [
        "<a href=\"https://colab.research.google.com/github/fishitmo/LeetCode/blob/main/Valid_Anagram.ipynb\" target=\"_parent\"><img src=\"https://colab.research.google.com/assets/colab-badge.svg\" alt=\"Open In Colab\"/></a>"
      ]
    },
    {
      "cell_type": "markdown",
      "source": [
        "Given two strings `s` and `t`, return true if `t` is an anagram of `s`, and false otherwise.\n",
        "\n",
        "An Anagram is a word or phrase formed by rearranging the letters of a different word or phrase, typically using all the original letters exactly once.\n",
        "\n",
        "**Example 1:**\n",
        "\n",
        "Input: s = \"anagram\", t = \"nagaram\"\n",
        "Output: true\n",
        "\n",
        "**Example 2:**\n",
        "\n",
        "Input: s = \"rat\", t = \"car\"\n",
        "Output: false\n",
        "\n",
        "**Constraints:**\n",
        "\n",
        "- 1 <= s.length, t.length <= 5 * 10^4\n",
        "- `s` and `t` consist of lowercase English letters.\n",
        "\n",
        "**Follow up:** What if the inputs contain Unicode characters? How would you adapt your solution to such a case?\n"
      ],
      "metadata": {
        "id": "fPAllj0jaPLF"
      }
    },
    {
      "cell_type": "code",
      "execution_count": 1,
      "metadata": {
        "id": "eBXI1_fGaJEq"
      },
      "outputs": [],
      "source": [
        "class Solution:\n",
        "  def isAnagram(slef, s: str, t: str) -> bool:\n",
        "    if len(s) != len(t):\n",
        "      return False\n",
        "\n",
        "    count = dict()\n",
        "    for char in s:\n",
        "      if char in count:\n",
        "        count[char] +=1\n",
        "      else:\n",
        "        count[char] =1\n",
        "    for char in t:\n",
        "      if char not in count or count[char] ==0:\n",
        "        return False\n",
        "      count[char] -=1\n",
        "    return all(value == 0 for value in count.values())"
      ]
    },
    {
      "cell_type": "code",
      "source": [
        "sol = Solution()\n",
        "\n",
        "char1 = input('enter the first string:')\n",
        "char2 = input('enter the second string:')\n",
        "\n",
        "print(f'The string {char2} is an anagram of {char1} is : {sol.isAnagram(char1, char2)}')"
      ],
      "metadata": {
        "colab": {
          "base_uri": "https://localhost:8080/"
        },
        "id": "bNNJDBFpdnCe",
        "outputId": "80f856bc-46b8-4914-a326-04ee6c257dcb"
      },
      "execution_count": 3,
      "outputs": [
        {
          "output_type": "stream",
          "name": "stdout",
          "text": [
            "enter the first string:what\n",
            "enter the second string:ahwt\n",
            "The string ahwt is an anagram of what is : True\n"
          ]
        }
      ]
    }
  ]
}