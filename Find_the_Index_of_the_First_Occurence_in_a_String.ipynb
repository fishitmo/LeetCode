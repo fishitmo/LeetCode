{
  "nbformat": 4,
  "nbformat_minor": 0,
  "metadata": {
    "colab": {
      "provenance": [],
      "authorship_tag": "ABX9TyP/4e7ncOJewhovPLxGpvKm",
      "include_colab_link": true
    },
    "kernelspec": {
      "name": "python3",
      "display_name": "Python 3"
    },
    "language_info": {
      "name": "python"
    }
  },
  "cells": [
    {
      "cell_type": "markdown",
      "metadata": {
        "id": "view-in-github",
        "colab_type": "text"
      },
      "source": [
        "<a href=\"https://colab.research.google.com/github/fishitmo/LeetCode/blob/main/Find_the_Index_of_the_First_Occurence_in_a_String.ipynb\" target=\"_parent\"><img src=\"https://colab.research.google.com/assets/colab-badge.svg\" alt=\"Open In Colab\"/></a>"
      ]
    },
    {
      "cell_type": "markdown",
      "source": [
        "Given two strings `needle` and `haystack`, return the index of the first occurrence of `needle` in `haystack`, or -1 if `needle` is not part of `haystack`.\n",
        "\n",
        "**Example 1:**\n",
        "\n",
        "Input: haystack = \"sadbutsad\", needle = \"sad\"\n",
        "Output: 0\n",
        "Explanation: \"sad\" occurs at index 0 and 6. The first occurrence is at index 0, so we return 0.\n",
        "\n",
        "**Example 2:**\n",
        "\n",
        "Input: haystack = \"leetcode\", needle = \"leeto\"\n",
        "Output: -1\n",
        "Explanation: \"leeto\" did not occur in \"leetcode\", so we return -1.\n",
        "\n",
        "**Constraints:**\n",
        "\n",
        "- 1 <= haystack.length, needle.length <= 104\n",
        "- `haystack` and `needle` consist of only lowercase English characters.\n"
      ],
      "metadata": {
        "id": "RdgQsWLbTSEi"
      }
    },
    {
      "cell_type": "code",
      "source": [
        "class Solution:\n",
        "    def strStr(self, haystack: str, needle: str) -> int:\n",
        "        if needle == \"\":\n",
        "            return 0\n",
        "\n",
        "        for i in range(len(haystack)+1 - len(needle)):\n",
        "            if haystack[i: i+len(needle)] == needle:\n",
        "                return i\n",
        "        return -1"
      ],
      "metadata": {
        "id": "Ybi26CdsThhI"
      },
      "execution_count": 1,
      "outputs": []
    },
    {
      "cell_type": "code",
      "source": [
        "\n",
        "haystack1 = \"sadbutsad\"\n",
        "needle1 = \"sad\"\n",
        "solutions = Solution()\n",
        "output = solutions.strStr(haystack1,needle1 )\n",
        "\n",
        "print(f'The index of the first needle is : {output}')\n",
        "\n",
        "haystack2 = \"leetcode\"\n",
        "needle2 = \"leeto\"\n",
        "solutions = Solution()\n",
        "output = solutions.strStr(haystack2,needle2 )\n",
        "print(f'The index of the first needle is : {output}')\n"
      ],
      "metadata": {
        "colab": {
          "base_uri": "https://localhost:8080/"
        },
        "id": "HnHspAP7TsmW",
        "outputId": "a26a30d3-3467-4538-dcd1-c9d41d4ef7af"
      },
      "execution_count": 2,
      "outputs": [
        {
          "output_type": "stream",
          "name": "stdout",
          "text": [
            "The index of the first needle is : 0\n",
            "The index of the first needle is : -1\n"
          ]
        }
      ]
    }
  ]
}