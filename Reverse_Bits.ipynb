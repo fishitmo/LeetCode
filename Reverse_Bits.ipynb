{
  "nbformat": 4,
  "nbformat_minor": 0,
  "metadata": {
    "colab": {
      "provenance": [],
      "authorship_tag": "ABX9TyM1A+Qty9H3kCSjxbCqI1sB",
      "include_colab_link": true
    },
    "kernelspec": {
      "name": "python3",
      "display_name": "Python 3"
    },
    "language_info": {
      "name": "python"
    }
  },
  "cells": [
    {
      "cell_type": "markdown",
      "metadata": {
        "id": "view-in-github",
        "colab_type": "text"
      },
      "source": [
        "<a href=\"https://colab.research.google.com/github/fishitmo/LeetCode/blob/main/Reverse_Bits.ipynb\" target=\"_parent\"><img src=\"https://colab.research.google.com/assets/colab-badge.svg\" alt=\"Open In Colab\"/></a>"
      ]
    },
    {
      "cell_type": "markdown",
      "source": [
        "Reverse bits of a given 32 bits unsigned integer.\n",
        "\n",
        "**Note:**\n",
        "\n",
        "Note that in some languages, such as Java, there is no unsigned integer type. In this case, both input and output will be given as a signed integer type. They should not affect your implementation, as the integer's internal binary representation is the same, whether it is signed or unsigned.\n",
        "\n",
        "In Java, the compiler represents the signed integers using 2's complement notation. Therefore, in Example 2 above, the input represents the signed integer -3 and the output represents the signed integer -1073741825.\n",
        "\n",
        "**Example 1:**\n",
        "\n",
        "Input: n = 00000010100101000001111010011100\n",
        "Output:    964176192 (00111001011110000010100101000000)\n",
        "Explanation: The input binary string 00000010100101000001111010011100 represents the unsigned integer 43261596, so return 964176192 which its binary representation is 00111001011110000010100101000000.\n",
        "\n",
        "**Example 2:**\n",
        "\n",
        "Input: n = 11111111111111111111111111111101\n",
        "Output:   3221225471 (10111111111111111111111111111111)\n",
        "Explanation: The input binary string 11111111111111111111111111111101 represents the unsigned integer 4294967293, so return 3221225471 which its binary representation is 10111111111111111111111111111111.\n",
        "\n",
        "**Constraints:**\n",
        "\n",
        "The input must be a binary string of length 32\n",
        "\n",
        "**Follow up:**\n",
        "If this function is called many times, how would you optimize it?\n"
      ],
      "metadata": {
        "id": "ljtkzU8NNZQj"
      }
    },
    {
      "cell_type": "code",
      "execution_count": null,
      "metadata": {
        "id": "S0kzWmx_NGGV"
      },
      "outputs": [],
      "source": []
    }
  ]
}