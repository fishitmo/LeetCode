{
  "nbformat": 4,
  "nbformat_minor": 0,
  "metadata": {
    "colab": {
      "provenance": [],
      "authorship_tag": "ABX9TyNS7huD5DH5EmCXiaidPplc",
      "include_colab_link": true
    },
    "kernelspec": {
      "name": "python3",
      "display_name": "Python 3"
    },
    "language_info": {
      "name": "python"
    }
  },
  "cells": [
    {
      "cell_type": "markdown",
      "metadata": {
        "id": "view-in-github",
        "colab_type": "text"
      },
      "source": [
        "<a href=\"https://colab.research.google.com/github/fishitmo/LeetCode/blob/main/Reverse_Bits.ipynb\" target=\"_parent\"><img src=\"https://colab.research.google.com/assets/colab-badge.svg\" alt=\"Open In Colab\"/></a>"
      ]
    },
    {
      "cell_type": "markdown",
      "source": [
        "Reverse bits of a given 32 bits unsigned integer.\n",
        "\n",
        "**Note:**\n",
        "\n",
        "Note that in some languages, such as Java, there is no unsigned integer type. In this case, both input and output will be given as a signed integer type. They should not affect your implementation, as the integer's internal binary representation is the same, whether it is signed or unsigned.\n",
        "\n",
        "In Java, the compiler represents the signed integers using 2's complement notation. Therefore, in Example 2 above, the input represents the signed integer -3 and the output represents the signed integer -1073741825.\n",
        "\n",
        "**Example 1:**\n",
        "\n",
        "Input: n = 00000010100101000001111010011100\n",
        "Output:    964176192 (00111001011110000010100101000000)\n",
        "Explanation: The input binary string 00000010100101000001111010011100 represents the unsigned integer 43261596, so return 964176192 which its binary representation is 00111001011110000010100101000000.\n",
        "\n",
        "**Example 2:**\n",
        "\n",
        "Input: n = 11111111111111111111111111111101\n",
        "Output:   3221225471 (10111111111111111111111111111111)\n",
        "Explanation: The input binary string 11111111111111111111111111111101 represents the unsigned integer 4294967293, so return 3221225471 which its binary representation is 10111111111111111111111111111111.\n",
        "\n",
        "**Constraints:**\n",
        "\n",
        "The input must be a binary string of length 32\n",
        "\n",
        "**Follow up:**\n",
        "If this function is called many times, how would you optimize it?\n"
      ],
      "metadata": {
        "id": "ljtkzU8NNZQj"
      }
    },
    {
      "cell_type": "code",
      "execution_count": 1,
      "metadata": {
        "id": "S0kzWmx_NGGV"
      },
      "outputs": [],
      "source": [
        "class Solution:\n",
        "  def reverseBits(self, n: int) -> int:\n",
        "    result = 0\n",
        "    for _ in range(32):\n",
        "      result = (result << 1) | (n & 1)\n",
        "\n",
        "      n >>=1\n",
        "\n",
        "    return result"
      ]
    },
    {
      "cell_type": "code",
      "source": [
        "sol = Solution()\n",
        "rev = input('Enter the 32 bit number to be reversed: ')\n",
        "input_num = int(rev)\n",
        "print(\"Input: \"  , bin(input_num))\n",
        "print(\"Output: \" , bin(sol.reverseBits(input_num)))"
      ],
      "metadata": {
        "colab": {
          "base_uri": "https://localhost:8080/"
        },
        "id": "8LGjT6_qGULH",
        "outputId": "88e0c806-2d57-4a22-8d3f-9383aa7d6731"
      },
      "execution_count": 33,
      "outputs": [
        {
          "output_type": "stream",
          "name": "stdout",
          "text": [
            "Enter the 32 bit number to be reversed: 3221225471\n",
            "Input:  0b10111111111111111111111111111111\n",
            "Output:  0b11111111111111111111111111111101\n"
          ]
        }
      ]
    }
  ]
}