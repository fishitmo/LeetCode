{
  "nbformat": 4,
  "nbformat_minor": 0,
  "metadata": {
    "colab": {
      "provenance": [],
      "authorship_tag": "ABX9TyOy07T7/E5CwIpJ4k4FzDuU",
      "include_colab_link": true
    },
    "kernelspec": {
      "name": "python3",
      "display_name": "Python 3"
    },
    "language_info": {
      "name": "python"
    }
  },
  "cells": [
    {
      "cell_type": "markdown",
      "metadata": {
        "id": "view-in-github",
        "colab_type": "text"
      },
      "source": [
        "<a href=\"https://colab.research.google.com/github/fishitmo/LeetCode/blob/main/Valid_Phone_Number.ipynb\" target=\"_parent\"><img src=\"https://colab.research.google.com/assets/colab-badge.svg\" alt=\"Open In Colab\"/></a>"
      ]
    },
    {
      "cell_type": "markdown",
      "source": [
        "Given a text file file.txt that contains a list of phone numbers (one per line), write a one-liner bash script to print all valid phone numbers.\n",
        "\n",
        "You may assume that a valid phone number must appear in one of the following two formats: (xxx) xxx-xxxx or xxx-xxx-xxxx. (x means a digit)\n",
        "\n",
        "You may also assume each line in the text file must not contain leading or trailing white spaces.\n",
        "\n",
        "Example:\n",
        "\n",
        "Assume that file.txt has the following content:\n",
        "\n",
        "987-123-4567\n",
        "\n",
        "123 456 7890\n",
        "\n",
        "(123) 456-7890\n",
        "\n",
        "Your script should output the following valid phone numbers:\n",
        "\n",
        "987-123-4567\n",
        "\n",
        "\n",
        "(123) 456-7890"
      ],
      "metadata": {
        "id": "esb49xSkg-Eq"
      }
    },
    {
      "cell_type": "code",
      "execution_count": null,
      "metadata": {
        "id": "PZTwu6jRgQee"
      },
      "outputs": [],
      "source": [
        "# Read from the file file.txt and output all valid phone numbers to stdout.\n",
        "grep -P '^(\\d{3}-\\d{3}-\\d{4}|\\(\\d{3}\\) \\d{3}-\\d{4})$' file.txt"
      ]
    }
  ]
}