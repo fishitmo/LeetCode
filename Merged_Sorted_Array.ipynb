{
  "nbformat": 4,
  "nbformat_minor": 0,
  "metadata": {
    "colab": {
      "provenance": [],
      "authorship_tag": "ABX9TyOdnehF2xig1i8kpKsq/lT0",
      "include_colab_link": true
    },
    "kernelspec": {
      "name": "python3",
      "display_name": "Python 3"
    },
    "language_info": {
      "name": "python"
    }
  },
  "cells": [
    {
      "cell_type": "markdown",
      "metadata": {
        "id": "view-in-github",
        "colab_type": "text"
      },
      "source": [
        "<a href=\"https://colab.research.google.com/github/fishitmo/LeetCode/blob/main/Merged_Sorted_Array.ipynb\" target=\"_parent\"><img src=\"https://colab.research.google.com/assets/colab-badge.svg\" alt=\"Open In Colab\"/></a>"
      ]
    },
    {
      "cell_type": "markdown",
      "source": [
        "You are given two integer arrays `nums1` and `nums2`, sorted in non-decreasing order, and two integers `m` and `n`, representing the number of elements in `nums1` and `nums2` respectively.\n",
        "\n",
        "Merge `nums1` and `nums2` into a single array sorted in non-decreasing order.\n",
        "\n",
        "The final sorted array should not be returned by the function, but instead be stored inside the array `nums1`. To accommodate this, `nums1` has a length of `m + n`, where the first `m` elements denote the elements that should be merged, and the last `n` elements are set to 0 and should be ignored. `nums2` has a length of `n`.\n",
        "\n",
        "### Example 1:\n",
        "\n",
        "**Input:** `nums1 = [1,2,3,0,0,0], m = 3, nums2 = [2,5,6], n = 3  \n",
        "**Output:** `[1,2,2,3,5,6]`  \n",
        "**Explanation:** The arrays we are merging are `[1,2,3]` and `[2,5,6]`.  \n",
        "The result of the merge is `[1,2,2,3,5,6]` with the underlined elements coming from `nums1`.\n",
        "\n",
        "### Example 2:\n",
        "\n",
        "**Input:** `nums1 = [1], m = 1, nums2 = [], n = 0  \n",
        "**Output:** `[1]`  \n",
        "**Explanation:** The arrays we are merging are `[1]` and `[]`.  \n",
        "The result of the merge is `[1]`.\n",
        "\n",
        "### Example 3:\n",
        "\n",
        "**Input:** `nums1 = [0], m = 0, nums2 = [1], n = 1  \n",
        "**Output:** `[1]`  \n",
        "**Explanation:** The arrays we are merging are `[]` and `[1]`.  \n",
        "The result of the merge is `[1]`.  \n",
        "Note that because `m = 0`, there are no elements in `nums1`. The `0` is only there to ensure the merge result can fit in `nums1`.\n",
        "\n",
        "### Constraints:\n",
        "\n",
        "- `nums1.length == m + n`\n",
        "- `nums2.length == n`\n",
        "- `0 <= m, n <= 200`\n",
        "- `1 <= m + n <= 200`\n",
        "- `-10^9 <= nums1[i], nums2[j] <= 10^9`\n",
        "\n",
        "**Follow up:** Can you come up with an algorithm that runs in `O(m + n)` time?\n"
      ],
      "metadata": {
        "id": "_vLWXE7GU8_e"
      }
    },
    {
      "cell_type": "markdown",
      "source": [
        "#**Solution**"
      ],
      "metadata": {
        "id": "qg_ioNm1WZ4I"
      }
    },
    {
      "cell_type": "markdown",
      "source": [
        "To merge two sorted integer arrays `nums1` and `nums2` into a single sorted array in non-decreasing order, with the result stored in `nums1`, you can follow these steps. This approach works in-place, utilizing the fact that `nums1` has enough space to hold the additional elements from `nums2` by filling the array from the end towards the beginning. This way, we avoid overwriting any elements in `nums1` that haven't been merged yet.\n",
        "\n",
        "Here's how you can do it:\n",
        "\n",
        "1. **Initialize three pointers**: One at the end of `nums1` (`i = m + n - 1`), one at the end of the non-zero elements of `nums1` (`m - 1`), and one at the end of `nums2` (`n - 1`).\n",
        "2. **Merge in reverse order**: Compare elements from `nums1` and `nums2` from the end to the beginning, and place the larger element at the current position of the first pointer (`i`). Then, move the pointer in the array from which the element was taken.\n",
        "3. **Handle remaining elements**: If `nums2` has elements left after `nums1` is exhausted, copy the remaining elements from `nums2` to `nums1`. If `nums1` is exhausted first, we don't need to do anything because the remaining elements of `nums1` are already in place.\n",
        "\n",
        "Here's the Python code implementing the above logic:\n"
      ],
      "metadata": {
        "id": "nvA6lUlCWf09"
      }
    },
    {
      "cell_type": "code",
      "execution_count": 1,
      "metadata": {
        "id": "rgL173EKUVXQ"
      },
      "outputs": [],
      "source": [
        "from typing import List\n",
        "\n",
        "class Solution:\n",
        "    def merge(self, nums1: List[int], m: int, nums2: List[int], n: int) -> None:\n",
        "        \"\"\"\n",
        "        Do not return anything, modify nums1 in-place instead.\n",
        "        \"\"\"\n",
        "        i = m + n - 1\n",
        "        p1 = m-1\n",
        "        p2= n-1\n",
        "\n",
        "        while p1>=0 and p2>=0:\n",
        "            if nums1[p1] > nums2[p2]:\n",
        "                nums1[i] = nums1[p1]\n",
        "                p1 -=1\n",
        "            else:\n",
        "                nums1[i] = nums2[p2]\n",
        "                p2 -=1\n",
        "            i -=1\n",
        "\n",
        "        while p2 >=0:\n",
        "            nums1[i] = nums2[p2]\n",
        "            i -=1\n",
        "            p2 -=1"
      ]
    },
    {
      "cell_type": "code",
      "source": [
        "# Example usage\n",
        "\n",
        "nums1 = [1,2,3,0,0,0]\n",
        "m= 3\n",
        "nums2 = [2,5,6]\n",
        "n=3\n",
        "\n",
        "solution = Solution()\n",
        "\n",
        "solution.merge(nums1, m, nums2, n)\n",
        "print(nums1)"
      ],
      "metadata": {
        "colab": {
          "base_uri": "https://localhost:8080/"
        },
        "id": "KLSzh_9dVTaa",
        "outputId": "b68cb7a7-6c01-4455-d118-fe0b93d0ee32"
      },
      "execution_count": 3,
      "outputs": [
        {
          "output_type": "stream",
          "name": "stdout",
          "text": [
            "[1, 2, 2, 3, 5, 6]\n"
          ]
        }
      ]
    },
    {
      "cell_type": "markdown",
      "source": [
        "This code correctly merges `nums2` into `nums1` in-place, ensuring the result is sorted in non-decreasing order. The key to this solution is working backwards, which allows us to efficiently utilize the space at the end of `nums1` that's initially filled with zeros, thereby accommodating the merged result without requiring additional space for the merge operation.\n"
      ],
      "metadata": {
        "id": "a8OnAiSfWk5I"
      }
    }
  ]
}