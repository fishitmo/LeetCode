{
  "nbformat": 4,
  "nbformat_minor": 0,
  "metadata": {
    "colab": {
      "provenance": [],
      "authorship_tag": "ABX9TyO7QaSmh3cub+5G3MHapRUt",
      "include_colab_link": true
    },
    "kernelspec": {
      "name": "python3",
      "display_name": "Python 3"
    },
    "language_info": {
      "name": "python"
    }
  },
  "cells": [
    {
      "cell_type": "markdown",
      "metadata": {
        "id": "view-in-github",
        "colab_type": "text"
      },
      "source": [
        "<a href=\"https://colab.research.google.com/github/fishitmo/LeetCode/blob/main/Contains_Duplicate.ipynb\" target=\"_parent\"><img src=\"https://colab.research.google.com/assets/colab-badge.svg\" alt=\"Open In Colab\"/></a>"
      ]
    },
    {
      "cell_type": "markdown",
      "source": [
        "Given an integer array `nums`, return true if any value appears at least twice in the array, and return false if every element is distinct.\n",
        "\n",
        "**Example 1:**\n",
        "\n",
        "Input: `nums = [1,2,3,1]`\n",
        "Output: `true`\n",
        "\n",
        "**Example 2:**\n",
        "\n",
        "Input: `nums = [1,2,3,4]`\n",
        "Output: `false`\n",
        "\n",
        "**Example 3:**\n",
        "\n",
        "Input: `nums = [1,1,1,3,3,4,3,2,4,2]`\n",
        "Output: `true`\n",
        "\n",
        "**Constraints:**\n",
        "\n",
        "- `1 <= nums.length <= 10^5`\n",
        "- `-10^9 <= nums[i] <= 10^9`\n"
      ],
      "metadata": {
        "id": "I0i9yaEPoN-l"
      }
    },
    {
      "cell_type": "code",
      "execution_count": 1,
      "metadata": {
        "id": "FjZE-NkAoGur"
      },
      "outputs": [],
      "source": [
        "from typing import List\n",
        "\n",
        "class Solution:\n",
        "  def containsDuplicate(self, nums: List[int]) -> bool:\n",
        "    seen = set()\n",
        "    for num in nums:\n",
        "      if num in seen:\n",
        "        return True\n",
        "      seen.add(num)\n",
        "    return False"
      ]
    },
    {
      "cell_type": "code",
      "source": [
        "sol = Solution()\n",
        "\n",
        "nums1 = [1,2,3,1]\n",
        "\n",
        "print(f'The list {nums1} has a value that is appeared twice is {sol.containsDuplicate(nums1)} ')"
      ],
      "metadata": {
        "colab": {
          "base_uri": "https://localhost:8080/"
        },
        "id": "DaTfBldhp39g",
        "outputId": "eb74a139-b385-4e5f-f029-6d4ca4d5004f"
      },
      "execution_count": 2,
      "outputs": [
        {
          "output_type": "stream",
          "name": "stdout",
          "text": [
            "The list [1, 2, 3, 1] has a value that is appeared twice is True \n"
          ]
        }
      ]
    }
  ]
}