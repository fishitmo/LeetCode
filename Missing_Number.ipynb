{
  "nbformat": 4,
  "nbformat_minor": 0,
  "metadata": {
    "colab": {
      "provenance": [],
      "authorship_tag": "ABX9TyMBv3/u5M+9hmC0XEn+qfGS",
      "include_colab_link": true
    },
    "kernelspec": {
      "name": "python3",
      "display_name": "Python 3"
    },
    "language_info": {
      "name": "python"
    }
  },
  "cells": [
    {
      "cell_type": "markdown",
      "metadata": {
        "id": "view-in-github",
        "colab_type": "text"
      },
      "source": [
        "<a href=\"https://colab.research.google.com/github/fishitmo/LeetCode/blob/main/Missing_Number.ipynb\" target=\"_parent\"><img src=\"https://colab.research.google.com/assets/colab-badge.svg\" alt=\"Open In Colab\"/></a>"
      ]
    },
    {
      "cell_type": "markdown",
      "source": [
        "Given an array `nums` containing `n` distinct numbers in the range `[0, n]`, return the only number in the range that is missing from the array.\n",
        "\n",
        "**Example 1:**\n",
        "\n",
        "Input: `nums = [3,0,1]`\n",
        "Output: `2`\n",
        "Explanation: `n = 3` since there are 3 numbers, so all numbers are in the range `[0,3]`. `2` is the missing number in the range since it does not appear in `nums`.\n",
        "\n",
        "**Example 2:**\n",
        "\n",
        "Input: `nums = [0,1]`\n",
        "Output: `2`\n",
        "Explanation: `n = 2` since there are 2 numbers, so all numbers are in the range `[0,2]`. `2` is the missing number in the range since it does not appear in `nums`.\n",
        "\n",
        "**Example 3:**\n",
        "\n",
        "Input: `nums = [9,6,4,2,3,5,7,0,1]`\n",
        "Output: `8`\n",
        "Explanation: `n = 9` since there are 9 numbers, so all numbers are in the range `[0,9]`. `8` is the missing number in the range since it does not appear in `nums`.\n",
        "\n",
        "**Constraints:**\n",
        "\n",
        "- `n == nums.length`\n",
        "- `1 <= n <= 10^4`\n",
        "- `0 <= nums[i] <= n`\n",
        "- All the numbers of `nums` are unique.\n",
        "\n",
        "**Follow up:** Could you implement a solution using only `O(1)` extra space complexity and `O(n)` runtime complexity?\n"
      ],
      "metadata": {
        "id": "y4PvB36iN4w6"
      }
    },
    {
      "cell_type": "code",
      "execution_count": 2,
      "metadata": {
        "id": "_NeaS30_NpKL"
      },
      "outputs": [],
      "source": [
        "from typing import List\n",
        "class Solution:\n",
        "  def missingNumber(self, nums: List[int]) -> int:\n",
        "    missing = len(nums)\n",
        "    for i, num in enumerate(nums):\n",
        "      missing ^= i^num\n",
        "    return missing"
      ]
    },
    {
      "cell_type": "code",
      "source": [
        "sol = Solution()\n",
        "\n",
        "l1 = [3,0,1]\n",
        "l2 = [9,6,4,2,3,5,7,0,1]\n",
        "l3 = [0,1]\n",
        "\n",
        "print(f'The only number missing from {l1} is {sol.missingNumber(l1)}')"
      ],
      "metadata": {
        "colab": {
          "base_uri": "https://localhost:8080/"
        },
        "id": "vKnkQLcgO_2W",
        "outputId": "e22e3ea0-2e95-457b-d3ce-ee1c97ddd348"
      },
      "execution_count": 5,
      "outputs": [
        {
          "output_type": "stream",
          "name": "stdout",
          "text": [
            "The only number missing from [3, 0, 1] is 2\n"
          ]
        }
      ]
    }
  ]
}