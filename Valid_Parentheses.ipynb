{
  "nbformat": 4,
  "nbformat_minor": 0,
  "metadata": {
    "colab": {
      "provenance": [],
      "authorship_tag": "ABX9TyNV5sa433wsVu5rKe9S5kjH",
      "include_colab_link": true
    },
    "kernelspec": {
      "name": "python3",
      "display_name": "Python 3"
    },
    "language_info": {
      "name": "python"
    }
  },
  "cells": [
    {
      "cell_type": "markdown",
      "metadata": {
        "id": "view-in-github",
        "colab_type": "text"
      },
      "source": [
        "<a href=\"https://colab.research.google.com/github/fishitmo/LeetCode/blob/main/Valid_Parentheses.ipynb\" target=\"_parent\"><img src=\"https://colab.research.google.com/assets/colab-badge.svg\" alt=\"Open In Colab\"/></a>"
      ]
    },
    {
      "cell_type": "markdown",
      "source": [
        "Given a string s containing just the characters '(', ')', '{', '}', '[' and ']', determine if the input string is valid.\n",
        "\n",
        "An input string is valid if:\n",
        "\n",
        "Open brackets must be closed by the same type of brackets.\n",
        "Open brackets must be closed in the correct order.\n",
        "Every close bracket has a corresponding open bracket of the same type.\n",
        "\n",
        "Example 1:\n",
        "\n",
        "Input: s = \"()\"\n",
        "Output: true\n",
        "\n",
        "Example 2:\n",
        "\n",
        "Input: s = \"()[]{}\"\n",
        "Output: true\n",
        "\n",
        "Example 3:\n",
        "\n",
        "Input: s = \"(]\"\n",
        "Output: false\n"
      ],
      "metadata": {
        "id": "HlOkaj6T24Fy"
      }
    },
    {
      "cell_type": "code",
      "execution_count": 1,
      "metadata": {
        "id": "2TdM7OZC2qYI"
      },
      "outputs": [],
      "source": [
        "class Solution:\n",
        "    def isValid(self, s: str) -> bool:\n",
        "         stack = []\n",
        "         closeToOpen = {\")\": \"(\" , \"]\": \"[\", \"}\":\"{\"}\n",
        "\n",
        "         for c in s:\n",
        "             if c in closeToOpen:\n",
        "                 if stack and stack[-1] == closeToOpen[c]:\n",
        "                     stack.pop()\n",
        "                 else:\n",
        "                     return False\n",
        "             else:\n",
        "                 stack.append(c)\n",
        "         return True if not stack else False"
      ]
    },
    {
      "cell_type": "code",
      "source": [
        "# Example usage to generate solution input\n",
        "solution = Solution()\n",
        "valid_input = \"()\"\n",
        "invalid_input = \"(]\"\n",
        "print(f\"Solution for '{valid_input}': {solution.isValid(valid_input)}\")\n",
        "print(f\"Solution for '{invalid_input}': {solution.isValid(invalid_input)}\")"
      ],
      "metadata": {
        "colab": {
          "base_uri": "https://localhost:8080/"
        },
        "id": "ShUXIQ2h3mP8",
        "outputId": "1f87c981-eba2-4b75-e3e0-8d0d77c8a7c3"
      },
      "execution_count": 2,
      "outputs": [
        {
          "output_type": "stream",
          "name": "stdout",
          "text": [
            "Solution for '()': True\n",
            "Solution for '(]': False\n"
          ]
        }
      ]
    }
  ]
}