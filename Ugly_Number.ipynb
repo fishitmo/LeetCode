{
  "nbformat": 4,
  "nbformat_minor": 0,
  "metadata": {
    "colab": {
      "provenance": [],
      "authorship_tag": "ABX9TyMQx596+kGtyG+1394qCb5P",
      "include_colab_link": true
    },
    "kernelspec": {
      "name": "python3",
      "display_name": "Python 3"
    },
    "language_info": {
      "name": "python"
    }
  },
  "cells": [
    {
      "cell_type": "markdown",
      "metadata": {
        "id": "view-in-github",
        "colab_type": "text"
      },
      "source": [
        "<a href=\"https://colab.research.google.com/github/fishitmo/LeetCode/blob/main/Ugly_Number.ipynb\" target=\"_parent\"><img src=\"https://colab.research.google.com/assets/colab-badge.svg\" alt=\"Open In Colab\"/></a>"
      ]
    },
    {
      "cell_type": "markdown",
      "source": [
        "An ugly number is a positive integer whose prime factors are limited to 2, 3, and 5.\n",
        "\n",
        "Given an integer n, return true if n is an ugly number.\n",
        "\n",
        "**Example 1:**\n",
        "\n",
        "Input: n = 6\n",
        "Output: true\n",
        "Explanation: 6 = 2 × 3\n",
        "\n",
        "**Example 2:**\n",
        "\n",
        "Input: n = 1\n",
        "Output: true\n",
        "Explanation: 1 has no prime factors, therefore all of its prime factors are limited to 2, 3, and 5.\n",
        "\n",
        "**Example 3:**\n",
        "\n",
        "Input: n = 14\n",
        "Output: false\n",
        "Explanation: 14 is not ugly since it includes the prime factor 7.\n",
        "\n",
        "**Constraints:**\n",
        "\n",
        "-2^31 <= n <= 2^31 - 1\n"
      ],
      "metadata": {
        "id": "p9QOGrc-2WJi"
      }
    },
    {
      "cell_type": "code",
      "execution_count": 1,
      "metadata": {
        "id": "RZFYBpva1p8m"
      },
      "outputs": [],
      "source": [
        "class Solution:\n",
        "  def isUgly(self, n: int) -> bool:\n",
        "    if n <= 0:\n",
        "      return False\n",
        "    for i in [2,3,5]:\n",
        "      while n % i == 0:\n",
        "        n //= i\n",
        "    return n == 1"
      ]
    },
    {
      "cell_type": "code",
      "source": [
        "sol = Solution()\n",
        "\n",
        "ug = input('Enter a postive integer to check wether an Ugly or not:')\n",
        "print(f'Is an intger {ug} Ugly number? Answer: {sol.isUgly(int(ug))}')"
      ],
      "metadata": {
        "colab": {
          "base_uri": "https://localhost:8080/"
        },
        "id": "3p_wZwSX39YT",
        "outputId": "79654680-c638-4e4a-b8fe-3450ced6335b"
      },
      "execution_count": 3,
      "outputs": [
        {
          "output_type": "stream",
          "name": "stdout",
          "text": [
            "Enter a postive integer to check wether an Ugly or not:6\n",
            "Is an intger 6 Ugly number? Answer: True\n"
          ]
        }
      ]
    }
  ]
}