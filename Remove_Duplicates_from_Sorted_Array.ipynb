{
  "nbformat": 4,
  "nbformat_minor": 0,
  "metadata": {
    "colab": {
      "provenance": [],
      "authorship_tag": "ABX9TyMO1RqOa7qFg/K7CeHWnMYY",
      "include_colab_link": true
    },
    "kernelspec": {
      "name": "python3",
      "display_name": "Python 3"
    },
    "language_info": {
      "name": "python"
    }
  },
  "cells": [
    {
      "cell_type": "markdown",
      "metadata": {
        "id": "view-in-github",
        "colab_type": "text"
      },
      "source": [
        "<a href=\"https://colab.research.google.com/github/fishitmo/LeetCode/blob/main/Remove_Duplicates_from_Sorted_Array.ipynb\" target=\"_parent\"><img src=\"https://colab.research.google.com/assets/colab-badge.svg\" alt=\"Open In Colab\"/></a>"
      ]
    },
    {
      "cell_type": "markdown",
      "source": [
        " * Given an integer array nums sorted in non-decreasing order, remove the duplicates in-place\n",
        " * such that each unique element appears only once. The relative order of the elements should\n",
        " * be kept the same. Then return the number of unique elements in nums.\n",
        " *\n",
        " * Consider the number of unique elements of nums to be k, to get accepted, you need to do\n",
        " * the following things:\n",
        " *\n",
        " * Change the array nums such that the first k elements of nums contain the unique elements\n",
        " * in the order they were present in nums initially. The remaining elements of nums are not\n",
        " * important as well as the size of nums.\n",
        " *\n",
        " * Return k.\n",
        " *\n",
        " * Custom Judge:\n",
        " *\n",
        " * The judge will test your solution with the following code:\n",
        " *\n",
        " * int[] nums = [...]; // Input array\n",
        " * int[] expectedNums = [...]; // The expected answer with correct length\n",
        " *\n",
        " * int k = removeDuplicates(nums); // Calls your implementation\n",
        " *\n",
        " * assert k == expectedNums.length;\n",
        " * for (int i = 0; i < k; i++) {\n",
        " *     assert nums[i] == expectedNums[i];\n",
        " * }\n",
        " *\n",
        " * If all assertions pass, then your solution will be accepted.\n",
        " *\n",
        " * Example 1:\n",
        " *\n",
        " * Input: nums = [1,1,2]\n",
        " * Output: 2, nums = [1,2,_]\n",
        " * Explanation: Your function should return k = 2, with the first two elements of nums being 1 and 2 respectively.\n",
        " * It does not matter what you leave beyond the returned k (hence they are underscores).\n",
        " *\n",
        " * Example 2:\n",
        " *\n",
        " * Input: nums = [0,0,1,1,1,2,2,3,3,4]\n",
        " * Output: 5, nums = [0,1,2,3,4,_,_,_,_,_]\n",
        " * Explanation: Your function should return k = 5, with the first five elements of nums being 0, 1, 2, 3, and 4 respectively.\n",
        " * It does not matter what you leave beyond the returned k (hence they are underscores).\n",
        " *\n",
        " * Constraints:\n",
        " *\n",
        " * 1 <= nums.length <= 3 * 10^4\n",
        " * -100 <= nums[i] <= 100\n",
        " * nums is sorted in non-decreasing order.\n",
        " */"
      ],
      "metadata": {
        "id": "GAsIHGuFkEIr"
      }
    },
    {
      "cell_type": "code",
      "execution_count": 5,
      "metadata": {
        "id": "X9t3wNTLj2Kl"
      },
      "outputs": [],
      "source": [
        "from typing import List\n",
        "class Solution:\n",
        "    def removeDuplicates(self, nums: List[int]) -> int:\n",
        "        if not nums:\n",
        "             return 0\n",
        "\n",
        "        j = 1\n",
        "        for i in range(1, len(nums)):\n",
        "            if nums[i] != nums[j-1]:\n",
        "                nums[j] = nums[i]\n",
        "                j +=1\n",
        "\n",
        "        return j"
      ]
    },
    {
      "cell_type": "code",
      "source": [
        "nums1 = [1,1,2]\n",
        "nums2 = [0,0,1,1,1,2,2,3,3,4]\n",
        "\n",
        "solutions = Solution()\n",
        "\n",
        "uniques= solutions.removeDuplicates(nums1)\n",
        "\n",
        "print(f'The Unique values are: {uniques}')\n",
        "\n",
        "uniques1 = solutions.removeDuplicates(nums2)\n",
        "\n",
        "print(f'The uniques values are: {uniques1}')"
      ],
      "metadata": {
        "colab": {
          "base_uri": "https://localhost:8080/"
        },
        "id": "7PlH95yy9Yzh",
        "outputId": "f4198380-1559-4973-a92e-22bc2d97d065"
      },
      "execution_count": 7,
      "outputs": [
        {
          "output_type": "stream",
          "name": "stdout",
          "text": [
            "The Unique values are: 2\n",
            "The uniques values are: 5\n"
          ]
        }
      ]
    }
  ]
}