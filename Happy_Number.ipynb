{
  "nbformat": 4,
  "nbformat_minor": 0,
  "metadata": {
    "colab": {
      "provenance": [],
      "authorship_tag": "ABX9TyNqBLcgodK3BxZZDGdWzRpx",
      "include_colab_link": true
    },
    "kernelspec": {
      "name": "python3",
      "display_name": "Python 3"
    },
    "language_info": {
      "name": "python"
    }
  },
  "cells": [
    {
      "cell_type": "markdown",
      "metadata": {
        "id": "view-in-github",
        "colab_type": "text"
      },
      "source": [
        "<a href=\"https://colab.research.google.com/github/fishitmo/LeetCode/blob/main/Happy_Number.ipynb\" target=\"_parent\"><img src=\"https://colab.research.google.com/assets/colab-badge.svg\" alt=\"Open In Colab\"/></a>"
      ]
    },
    {
      "cell_type": "markdown",
      "source": [
        "## Write an algorithm to determine if a number n is happy.\n",
        "\n",
        "A happy number is a number defined by the following process:\n",
        "\n",
        "1. Starting with any positive integer, replace the number by the sum of the squares of its digits.\n",
        "2. Repeat the process until the number equals 1 (where it will stay), or it loops endlessly in a cycle which does not include 1.\n",
        "3. Those numbers for which this process ends in 1 are happy.\n",
        "\n",
        "Return true if n is a happy number, and false if not.\n",
        "\n",
        "### Example 1:\n",
        "\n",
        "Input: n = 19\n",
        "Output: true\n",
        "\n",
        "Explanation:\n",
        "1^2 + 9^2 = 82\n",
        "8^2 + 2^2 = 68\n",
        "6^2 + 8^2 = 100\n",
        "1^2 + 0^2 + 0^2 = 1\n",
        "\n",
        "### Example 2:\n",
        "\n",
        "Input: n = 2\n",
        "Output: false\n",
        "\n",
        "### Constraints:\n",
        "\n",
        "1 <= n <= 2^31 - 1\n"
      ],
      "metadata": {
        "id": "e3f3BNJZjVFD"
      }
    },
    {
      "cell_type": "code",
      "execution_count": 1,
      "metadata": {
        "id": "cHyHgU1si5NY"
      },
      "outputs": [],
      "source": [
        "class Solution:\n",
        "  def isHappy(self, n: int) -> bool:\n",
        "    def get_next(num):\n",
        "      total_sum = 0\n",
        "      while num > 0:\n",
        "        num , digit = divmod(num, 10)\n",
        "        total_sum += digit**2\n",
        "      return total_sum\n",
        "\n",
        "    seen = set()\n",
        "\n",
        "    while n != 1 and n not in seen:\n",
        "\n",
        "      seen.add(n)\n",
        "      n = get_next(n)\n",
        "    return n == 1"
      ]
    },
    {
      "cell_type": "code",
      "source": [
        "sol = Solution()\n",
        "\n",
        "ish = input('Enter a positive integer that you want to know a happy or not: ')\n",
        "\n",
        "print(f'The positive number {ish} is {sol.isHappy(int(ish))}')"
      ],
      "metadata": {
        "colab": {
          "base_uri": "https://localhost:8080/"
        },
        "id": "xe8sI4Pv_Tdq",
        "outputId": "8ccab93b-10dc-4e8e-b5bd-3df04f0d4251"
      },
      "execution_count": 10,
      "outputs": [
        {
          "output_type": "stream",
          "name": "stdout",
          "text": [
            "Enter a positive integer that you want to know a happy or not: 19\n",
            "The positive number 19 is True\n"
          ]
        }
      ]
    }
  ]
}