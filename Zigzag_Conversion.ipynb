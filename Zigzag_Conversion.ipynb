{
  "nbformat": 4,
  "nbformat_minor": 0,
  "metadata": {
    "colab": {
      "provenance": [],
      "authorship_tag": "ABX9TyPU+/xSMNeiFz2q5dVhJHmb",
      "include_colab_link": true
    },
    "kernelspec": {
      "name": "python3",
      "display_name": "Python 3"
    },
    "language_info": {
      "name": "python"
    }
  },
  "cells": [
    {
      "cell_type": "markdown",
      "metadata": {
        "id": "view-in-github",
        "colab_type": "text"
      },
      "source": [
        "<a href=\"https://colab.research.google.com/github/fishitmo/LeetCode/blob/main/Zigzag_Conversion.ipynb\" target=\"_parent\"><img src=\"https://colab.research.google.com/assets/colab-badge.svg\" alt=\"Open In Colab\"/></a>"
      ]
    },
    {
      "cell_type": "markdown",
      "source": [
        "The string \"PAYPALISHIRING\" is written in a zigzag pattern on a given number of rows like this: (you may want to display this pattern in a fixed font for better legibility)\n",
        "\n",
        "P   A   H   N\n",
        "A P L S I I G\n",
        "Y   I   R\n",
        "And then read line by line: \"PAHNAPLSIIGYIR\"\n",
        "\n",
        "Write the code that will take a string and make this conversion given a number of rows:\n",
        "\n",
        "string convert(string s, int numRows);\n",
        "\n",
        "\n",
        "Example 1:\n",
        "\n",
        "Input: s = \"PAYPALISHIRING\", numRows = 3\n",
        "Output: \"PAHNAPLSIIGYIR\"\n",
        "\n",
        "\n",
        "Example 2:\n",
        "\n",
        "Input: s = \"PAYPALISHIRING\", numRows = 4\n",
        "Output: \"PINALSIGYAHRPI\"\n",
        "Explanation:\n",
        "P     I    N\n",
        "A   L S  I G\n",
        "Y A   H R\n",
        "P     I\n",
        "\n",
        "\n",
        "Example 3:\n",
        "\n",
        "Input: s = \"A\", numRows = 1\n",
        "Output: \"A\"\n",
        "\n",
        "\n",
        "Constraints:\n",
        "\n",
        "1 <= s.length <= 1000\n",
        "s consists of English letters (lower-case and upper-case), ',' and '.'.\n",
        "1 <= numRows <= 1000"
      ],
      "metadata": {
        "id": "PN7ygfWbG358"
      }
    },
    {
      "cell_type": "code",
      "execution_count": 4,
      "metadata": {
        "id": "qoNjRxJrGu_n"
      },
      "outputs": [],
      "source": [
        "class Solution:\n",
        "  def convert(self, s: str , numRows: int) -> str:\n",
        "    if numRows == 1 or numRows >= len(s):\n",
        "      # if only one row or fewer characters than rows,  no zigzag can happen\n",
        "      return s\n",
        "\n",
        "    # initialize an array for each row\n",
        "    rows = [''] * numRows\n",
        "    current_row = 0\n",
        "    going_down = False\n",
        "\n",
        "    for char in s:\n",
        "      # Add the current character to the current row\n",
        "      rows[current_row] +=char\n",
        "      # if at the top or bottom, reverse direction\n",
        "      if current_row == 0 or current_row == numRows - 1:\n",
        "        going_down = not going_down\n",
        "\n",
        "      # move up or down\n",
        "      current_row += 1 if going_down else -1\n",
        "\n",
        "    # Join all rows to get the final string\n",
        "    return ''.join(rows)\n"
      ]
    },
    {
      "cell_type": "code",
      "source": [
        "sol = Solution()\n",
        "\n",
        "s = input('Enter the string: ')\n",
        "i = input('Enter the number of rows')\n",
        "\n",
        "print(f'the conversion of {s} is {sol.convert(s, int(i))}')"
      ],
      "metadata": {
        "colab": {
          "base_uri": "https://localhost:8080/"
        },
        "id": "Yyl5zxWKMtEQ",
        "outputId": "529fdd4a-16f0-4871-f598-b7c8b49f794c"
      },
      "execution_count": 9,
      "outputs": [
        {
          "output_type": "stream",
          "name": "stdout",
          "text": [
            "Enter the string: Teweldebrhan\n",
            "Enter the number of rows2\n",
            "the conversion of Teweldebrhan is Twleraeedbhn\n"
          ]
        }
      ]
    }
  ]
}