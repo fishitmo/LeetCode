{
  "nbformat": 4,
  "nbformat_minor": 0,
  "metadata": {
    "colab": {
      "provenance": [],
      "authorship_tag": "ABX9TyOTcOs08CqjsH6Z6ybPqMzI",
      "include_colab_link": true
    },
    "kernelspec": {
      "name": "python3",
      "display_name": "Python 3"
    },
    "language_info": {
      "name": "python"
    }
  },
  "cells": [
    {
      "cell_type": "markdown",
      "metadata": {
        "id": "view-in-github",
        "colab_type": "text"
      },
      "source": [
        "<a href=\"https://colab.research.google.com/github/fishitmo/LeetCode/blob/main/Reverse_Integer.ipynb\" target=\"_parent\"><img src=\"https://colab.research.google.com/assets/colab-badge.svg\" alt=\"Open In Colab\"/></a>"
      ]
    },
    {
      "cell_type": "markdown",
      "source": [
        "Given a signed 32-bit integer x, return x with its digits reversed. If reversing x causes the value to go outside the signed 32-bit integer range [-2^31, 2^31 - 1], then return 0.\n",
        "\n",
        "Assume the environment does not allow you to store 64-bit integers (signed or unsigned).\n",
        "\n",
        "**Example 1:**\n",
        "\n",
        "Input: x = 123\n",
        "Output: 321\n",
        "\n",
        "**Example 2:**\n",
        "\n",
        "Input: x = -123\n",
        "Output: -321\n",
        "\n",
        "**Example 3:**\n",
        "\n",
        "Input: x = 120\n",
        "Output: 21\n",
        "\n",
        "**Constraints:**\n",
        "\n",
        "-2^31 <= x <= 2^31 - 1\n"
      ],
      "metadata": {
        "id": "QDaYwTLnyRok"
      }
    },
    {
      "cell_type": "code",
      "execution_count": 1,
      "metadata": {
        "id": "3Mqccup9yISL"
      },
      "outputs": [],
      "source": [
        "\n",
        "class Solution:\n",
        "  def reverse(self , x: int) -> int:\n",
        "\n",
        "    if x < 0:\n",
        "      sign = -1\n",
        "      x = -x\n",
        "    else:\n",
        "      sign = 1\n",
        "\n",
        "    rev = 0\n",
        "    while x !=0:\n",
        "\n",
        "      digit = x %10\n",
        "      rev = rev*10 + digit\n",
        "      x //= 10\n",
        "    if rev > 2**31 -1 or rev < -2**31:\n",
        "      return 0\n",
        "    return rev*sign"
      ]
    },
    {
      "cell_type": "code",
      "source": [
        "sol= Solution()\n",
        "\n",
        "user_input = input(\"Ennter the 32-bit integer(between -2147483648 and 2147483647) number you want to reverse: \")\n",
        "\n",
        "print(f'The revers of {user_input} is {sol.reverse(int(user_input))}')\n",
        "\n"
      ],
      "metadata": {
        "colab": {
          "base_uri": "https://localhost:8080/"
        },
        "id": "FZjtq1tDz8ZD",
        "outputId": "f2745888-16f1-4107-b27c-5946d19745e2"
      },
      "execution_count": 7,
      "outputs": [
        {
          "output_type": "stream",
          "name": "stdout",
          "text": [
            "Ennter the 32-bit integer(between -2147483648 and 2147483647) number you want to reverse: -5678\n",
            "The revers of -5678 is -8765\n"
          ]
        }
      ]
    }
  ]
}