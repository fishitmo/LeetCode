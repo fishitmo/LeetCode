{
  "nbformat": 4,
  "nbformat_minor": 0,
  "metadata": {
    "colab": {
      "provenance": [],
      "authorship_tag": "ABX9TyPdhBjwTsdck9xv+IM805Fi",
      "include_colab_link": true
    },
    "kernelspec": {
      "name": "python3",
      "display_name": "Python 3"
    },
    "language_info": {
      "name": "python"
    }
  },
  "cells": [
    {
      "cell_type": "markdown",
      "metadata": {
        "id": "view-in-github",
        "colab_type": "text"
      },
      "source": [
        "<a href=\"https://colab.research.google.com/github/fishitmo/LeetCode/blob/main/Move_Zeroes.ipynb\" target=\"_parent\"><img src=\"https://colab.research.google.com/assets/colab-badge.svg\" alt=\"Open In Colab\"/></a>"
      ]
    },
    {
      "cell_type": "markdown",
      "source": [
        "Given an integer array `nums`, move all 0's to the end of it while maintaining the relative order of the non-zero elements.\n",
        "\n",
        "Note that you must do this in-place without making a copy of the array.\n",
        "\n",
        "Example 1:\n",
        "\n",
        "- **Input:** `nums = [0,1,0,3,12]`\n",
        "- **Output:** `[1,3,12,0,0]`\n",
        "\n",
        "Example 2:\n",
        "\n",
        "- **Input:** `nums = [0]`\n",
        "- **Output:** `[0]`\n",
        "\n",
        "Constraints:\n",
        "- `1 <= nums.length <= 10^4`\n",
        "- `-2^31 <= nums[i] <= 2^31 - 1`\n",
        "\n",
        "Follow up: Could you minimize the total number of operations done?\n"
      ],
      "metadata": {
        "id": "svn7aq0HZyOV"
      }
    },
    {
      "cell_type": "code",
      "execution_count": 1,
      "metadata": {
        "id": "0LKcK1uKZj9O"
      },
      "outputs": [],
      "source": [
        "from typing import List\n",
        "\n",
        "class Solution:\n",
        "    def moveZeroes(self, nums: List[int]) -> None:\n",
        "        \"\"\"\n",
        "        Do not return anything, modify nums in-place instead.\n",
        "        \"\"\"\n",
        "        # Initialize a pointer to keep track of the position where a non-zero element should be placed\n",
        "        non_zero_index = 0\n",
        "\n",
        "        # Traverse through the array\n",
        "        for num in nums:\n",
        "            # If the current element is non-zero, move it to the position pointed by non_zero_index\n",
        "            if num != 0:\n",
        "                nums[non_zero_index] = num\n",
        "                non_zero_index += 1\n",
        "\n",
        "        # Fill the rest of the array with zeros\n",
        "        for i in range(non_zero_index, len(nums)):\n",
        "            nums[i] = 0"
      ]
    },
    {
      "cell_type": "code",
      "source": [
        "# Example usage:\n",
        "s = Solution()\n",
        "arr = [0, 1, 0, 3, 12]\n",
        "print(\"Original array:\", arr)\n",
        "s.moveZeroes(arr)\n",
        "print(\"After moving zeros:\", arr)"
      ],
      "metadata": {
        "colab": {
          "base_uri": "https://localhost:8080/"
        },
        "id": "1bqHulC_eH09",
        "outputId": "686e30e2-f053-4115-fda9-37e18ad223e8"
      },
      "execution_count": 2,
      "outputs": [
        {
          "output_type": "stream",
          "name": "stdout",
          "text": [
            "Original array: [0, 1, 0, 3, 12]\n",
            "After moving zeros: [1, 3, 12, 0, 0]\n"
          ]
        }
      ]
    }
  ]
}