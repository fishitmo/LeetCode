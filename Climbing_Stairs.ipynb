{
  "nbformat": 4,
  "nbformat_minor": 0,
  "metadata": {
    "colab": {
      "provenance": [],
      "authorship_tag": "ABX9TyMz+oQa+kgr5/wEelYwqZWo",
      "include_colab_link": true
    },
    "kernelspec": {
      "name": "python3",
      "display_name": "Python 3"
    },
    "language_info": {
      "name": "python"
    }
  },
  "cells": [
    {
      "cell_type": "markdown",
      "metadata": {
        "id": "view-in-github",
        "colab_type": "text"
      },
      "source": [
        "<a href=\"https://colab.research.google.com/github/fishitmo/LeetCode/blob/main/Climbing_Stairs.ipynb\" target=\"_parent\"><img src=\"https://colab.research.google.com/assets/colab-badge.svg\" alt=\"Open In Colab\"/></a>"
      ]
    },
    {
      "cell_type": "markdown",
      "source": [
        "You are climbing a staircase. It takes *n* steps to reach the top.\n",
        "\n",
        "Each time you can either climb 1 or 2 steps. In how many distinct ways can you climb to the top?\n",
        "\n",
        "**Example 1:**\n",
        "\n",
        "Input: n = 2  \n",
        "Output: 2  \n",
        "Explanation: There are two ways to climb to the top.  \n",
        "1. 1 step + 1 step  \n",
        "2. 2 steps  \n",
        "\n",
        "**Example 2:**\n",
        "\n",
        "Input: n = 3  \n",
        "Output: 3  \n",
        "Explanation: There are three ways to climb to the top.  \n",
        "1. 1 step + 1 step + 1 step  \n",
        "2. 1 step + 2 steps  \n",
        "3. 2 steps + 1 step  \n",
        "\n",
        "**Constraints:**\n",
        "\n",
        "1 <= n <= 45\n"
      ],
      "metadata": {
        "id": "LqktYje8AJrq"
      }
    },
    {
      "cell_type": "code",
      "execution_count": 1,
      "metadata": {
        "id": "PUO8R52z_0b6"
      },
      "outputs": [],
      "source": [
        "class Solution:\n",
        "    def climbStairs(self, n: int) -> int:\n",
        "        one , two = 1, 1\n",
        "\n",
        "        for i in range(n-1):\n",
        "           temp = one\n",
        "           one = one + two\n",
        "           two = temp\n",
        "        return one"
      ]
    },
    {
      "cell_type": "code",
      "source": [
        "n1 , n2 , n3 , n4 = 2 , 3 , 5 , 10\n",
        "\n",
        "n = [n1,n2, n3, n4]\n",
        "\n",
        "solution = Solution()\n",
        "\n",
        "for i in n:\n",
        "  print(f'If there is {i} steps there are {solution.climbStairs(i)} distinct ways to climb to the top')\n"
      ],
      "metadata": {
        "colab": {
          "base_uri": "https://localhost:8080/"
        },
        "id": "57gqorHkAcjM",
        "outputId": "046f2d92-617f-4349-9e90-7f14c8935d00"
      },
      "execution_count": 5,
      "outputs": [
        {
          "output_type": "stream",
          "name": "stdout",
          "text": [
            "If there is 2 steps there are 2 distinct ways to climb to the top\n",
            "If there is 3 steps there are 3 distinct ways to climb to the top\n",
            "If there is 5 steps there are 8 distinct ways to climb to the top\n",
            "If there is 10 steps there are 89 distinct ways to climb to the top\n"
          ]
        }
      ]
    }
  ]
}