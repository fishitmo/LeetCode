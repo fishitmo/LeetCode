{
  "nbformat": 4,
  "nbformat_minor": 0,
  "metadata": {
    "colab": {
      "provenance": [],
      "authorship_tag": "ABX9TyPXxFeLMyMqxtUh8jlilm+Y",
      "include_colab_link": true
    },
    "kernelspec": {
      "name": "python3",
      "display_name": "Python 3"
    },
    "language_info": {
      "name": "python"
    }
  },
  "cells": [
    {
      "cell_type": "markdown",
      "metadata": {
        "id": "view-in-github",
        "colab_type": "text"
      },
      "source": [
        "<a href=\"https://colab.research.google.com/github/fishitmo/LeetCode/blob/main/Number_of_1_Bits.ipynb\" target=\"_parent\"><img src=\"https://colab.research.google.com/assets/colab-badge.svg\" alt=\"Open In Colab\"/></a>"
      ]
    },
    {
      "cell_type": "markdown",
      "source": [
        "Write a function that takes the binary representation of a positive integer and returns the number of set bits (also known as the Hamming weight).\n",
        "\n",
        "**Example 1:**\n",
        "\n",
        "Input: n = 11\n",
        "\n",
        "Output: 3\n",
        "\n",
        "Explanation:\n",
        "\n",
        "The input binary string 1011 has a total of three set bits.\n",
        "\n",
        "**Example 2:**\n",
        "\n",
        "Input: n = 128\n",
        "\n",
        "Output: 1\n",
        "\n",
        "Explanation:\n",
        "\n",
        "The input binary string 10000000 has a total of one set bit.\n",
        "\n",
        "**Example 3:**\n",
        "\n",
        "Input: n = 2147483645\n",
        "\n",
        "Output: 30\n",
        "\n",
        "Explanation:\n",
        "\n",
        "The input binary string 1111111111111111111111111111101 has a total of thirty set bits.\n",
        "\n",
        "**Constraints:**\n",
        "\n",
        "1 <= n <= 2^31 - 1\n",
        "\n",
        "**Follow up:** If this function is called many times, how would you optimize it?\n"
      ],
      "metadata": {
        "id": "l7KYssZM3C4a"
      }
    },
    {
      "cell_type": "code",
      "execution_count": 1,
      "metadata": {
        "id": "p4Nxc9Pd2OpS"
      },
      "outputs": [],
      "source": [
        "class Solution:\n",
        "  def hammingWeight(self, n: int) -> int:\n",
        "    count = 0\n",
        "    while n:\n",
        "      count += n & 1\n",
        "      n >>= 1\n",
        "    return count"
      ]
    },
    {
      "cell_type": "code",
      "source": [
        "sol = Solution()\n",
        "\n",
        "ham = input('Enter a positive integer:')\n",
        "\n",
        "print(f'The number of set bits in the binary representation of {ham} is {sol.hammingWeight(int(ham))}')"
      ],
      "metadata": {
        "colab": {
          "base_uri": "https://localhost:8080/"
        },
        "id": "ysFgFMOp40zc",
        "outputId": "0cf22dd1-a2d5-4457-d7bb-11b595db0b73"
      },
      "execution_count": 7,
      "outputs": [
        {
          "output_type": "stream",
          "name": "stdout",
          "text": [
            "Enter a positive integer:1024\n",
            "The number of set bits in the binary representation of 1024 is 1\n"
          ]
        }
      ]
    }
  ]
}