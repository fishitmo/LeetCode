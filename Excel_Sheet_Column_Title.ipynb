{
  "nbformat": 4,
  "nbformat_minor": 0,
  "metadata": {
    "colab": {
      "provenance": [],
      "authorship_tag": "ABX9TyMlgPM+daiHPAQp9KSkzyDb",
      "include_colab_link": true
    },
    "kernelspec": {
      "name": "python3",
      "display_name": "Python 3"
    },
    "language_info": {
      "name": "python"
    }
  },
  "cells": [
    {
      "cell_type": "markdown",
      "metadata": {
        "id": "view-in-github",
        "colab_type": "text"
      },
      "source": [
        "<a href=\"https://colab.research.google.com/github/fishitmo/LeetCode/blob/main/Excel_Sheet_Column_Title.ipynb\" target=\"_parent\"><img src=\"https://colab.research.google.com/assets/colab-badge.svg\" alt=\"Open In Colab\"/></a>"
      ]
    },
    {
      "cell_type": "markdown",
      "source": [
        "Given an integer `columnNumber`, return its corresponding column title as it appears in an Excel sheet.\n",
        "\n",
        "For example:\n",
        "\n",
        "- A -> 1\n",
        "- B -> 2\n",
        "- C -> 3\n",
        "- ...\n",
        "- Z -> 26\n",
        "- AA -> 27\n",
        "- AB -> 28\n",
        "- ...\n",
        "\n",
        "\n",
        "**Example 1:**\n",
        "\n",
        "Input: columnNumber = 1\n",
        "Output: \"A\"\n",
        "\n",
        "**Example 2:**\n",
        "\n",
        "Input: columnNumber = 28\n",
        "Output: \"AB\"\n",
        "\n",
        "**Example 3:**\n",
        "\n",
        "Input: columnNumber = 701\n",
        "Output: \"ZY\"\n",
        "\n",
        "\n",
        "**Constraints:**\n",
        "\n",
        "1 <= columnNumber <= 2^31 - 1\n"
      ],
      "metadata": {
        "id": "eqUUZ2jLOBh0"
      }
    },
    {
      "cell_type": "code",
      "execution_count": 1,
      "metadata": {
        "id": "fylFgDRcN5tb"
      },
      "outputs": [],
      "source": [
        "class Solution:\n",
        "  def convertToTitle(self, columnNumber: int) -> str:\n",
        "    result = ''\n",
        "    while columnNumber >0:\n",
        "      columnNumber -=1\n",
        "      remainder = columnNumber % 26\n",
        "      result += chr(remainder +65)\n",
        "      columnNumber //=26\n",
        "    return result[::-1]"
      ]
    },
    {
      "cell_type": "code",
      "source": [
        "sol = Solution()\n",
        "column_number = input('Enter a column number: ')\n",
        "print(f'For an integer column number {int(column_number)} the corresponding column title is {sol.convertToTitle(int(column_number))}')"
      ],
      "metadata": {
        "colab": {
          "base_uri": "https://localhost:8080/"
        },
        "id": "bc0qH8j1QSUr",
        "outputId": "caeeea18-2bbd-40b0-cd3a-96f969891e71"
      },
      "execution_count": 7,
      "outputs": [
        {
          "output_type": "stream",
          "name": "stdout",
          "text": [
            "Enter a column number: 4877\n",
            "For an integer column number 4877 the corresponding column title is GEO\n"
          ]
        }
      ]
    }
  ]
}