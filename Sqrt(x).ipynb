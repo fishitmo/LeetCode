{
  "nbformat": 4,
  "nbformat_minor": 0,
  "metadata": {
    "colab": {
      "provenance": [],
      "authorship_tag": "ABX9TyOee7jgXBJgM2lgqK9I3O4M",
      "include_colab_link": true
    },
    "kernelspec": {
      "name": "python3",
      "display_name": "Python 3"
    },
    "language_info": {
      "name": "python"
    }
  },
  "cells": [
    {
      "cell_type": "markdown",
      "metadata": {
        "id": "view-in-github",
        "colab_type": "text"
      },
      "source": [
        "<a href=\"https://colab.research.google.com/github/fishitmo/LeetCode/blob/main/Sqrt(x).ipynb\" target=\"_parent\"><img src=\"https://colab.research.google.com/assets/colab-badge.svg\" alt=\"Open In Colab\"/></a>"
      ]
    },
    {
      "cell_type": "markdown",
      "source": [
        "Given a non-negative integer x, return the square root of x rounded down to the nearest integer. The returned integer should be non-negative as well.\n",
        "\n",
        "You must not use any built-in exponent function or operator.\n",
        "\n",
        "For example, do not use pow(x, 0.5) in c++ or x ** 0.5 in python.\n",
        "\n",
        "**Example 1:**\n",
        "\n",
        "Input: x = 4\n",
        "Output: 2\n",
        "Explanation: The square root of 4 is 2, so we return 2.\n",
        "\n",
        "**Example 2:**\n",
        "\n",
        "Input: x = 8\n",
        "Output: 2\n",
        "Explanation: The square root of 8 is 2.82842..., and since we round it down to the nearest integer, 2 is returned.\n",
        "\n",
        "**Constraints:**\n",
        "\n",
        "0 <= x <= 2^31 - 1\n"
      ],
      "metadata": {
        "id": "eknmO_mUno33"
      }
    },
    {
      "cell_type": "code",
      "execution_count": 1,
      "metadata": {
        "id": "_74rbzhWnd61"
      },
      "outputs": [],
      "source": [
        "class Solution:\n",
        "    def mySqrt(self, x: int) -> int:\n",
        "        l , r = 0 , x\n",
        "        res = 0\n",
        "\n",
        "        while l <=r:\n",
        "            m= l + ((r-l)//2)\n",
        "\n",
        "            if m**2 > x:\n",
        "                r = m-1\n",
        "            elif m**2 < x:\n",
        "                l= m+1\n",
        "                res = m\n",
        "            else:\n",
        "                return m\n",
        "        return res"
      ]
    },
    {
      "cell_type": "code",
      "source": [
        "x1 = 4\n",
        "x2 = 8\n",
        "x3 = 7\n",
        "x4 = 2\n",
        "x5 = 79\n",
        "\n",
        "x = [x1, x2, x3, x4, x5]\n",
        "solution = Solution()\n",
        "for i in x:\n",
        "  print(f'The square root of {i} to the nearest rounded number is {solution.mySqrt(i)}')"
      ],
      "metadata": {
        "colab": {
          "base_uri": "https://localhost:8080/"
        },
        "id": "30Eponv2ohwH",
        "outputId": "80c3038e-595b-4f33-e4f8-49fe87de4d5b"
      },
      "execution_count": 2,
      "outputs": [
        {
          "output_type": "stream",
          "name": "stdout",
          "text": [
            "The square root of 4 to the nearest rounded number is 2\n",
            "The square root of 8 to the nearest rounded number is 2\n",
            "The square root of 7 to the nearest rounded number is 2\n",
            "The square root of 2 to the nearest rounded number is 1\n",
            "The square root of 79 to the nearest rounded number is 8\n"
          ]
        }
      ]
    }
  ]
}