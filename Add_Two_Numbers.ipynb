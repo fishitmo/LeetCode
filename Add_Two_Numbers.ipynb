{
  "nbformat": 4,
  "nbformat_minor": 0,
  "metadata": {
    "colab": {
      "provenance": [],
      "authorship_tag": "ABX9TyOaA8GQQsqYLdyhgaePQZLE",
      "include_colab_link": true
    },
    "kernelspec": {
      "name": "python3",
      "display_name": "Python 3"
    },
    "language_info": {
      "name": "python"
    }
  },
  "cells": [
    {
      "cell_type": "markdown",
      "metadata": {
        "id": "view-in-github",
        "colab_type": "text"
      },
      "source": [
        "<a href=\"https://colab.research.google.com/github/fishitmo/LeetCode/blob/main/Add_Two_Numbers.ipynb\" target=\"_parent\"><img src=\"https://colab.research.google.com/assets/colab-badge.svg\" alt=\"Open In Colab\"/></a>"
      ]
    },
    {
      "cell_type": "markdown",
      "source": [
        "This code represents a solution to the \"Add Two Numbers\" problem, which involves adding two non-negative integers represented by linked lists where each node in the linked list represents a single digit of the number in reverse order. Here's a breakdown of the code:"
      ],
      "metadata": {
        "id": "t87CcQONOE9N"
      }
    },
    {
      "cell_type": "code",
      "execution_count": 4,
      "metadata": {
        "id": "UhaZ7VHAKdJA"
      },
      "outputs": [],
      "source": [
        "# Definition for singly-linked list.\n",
        "\n",
        "from typing import Optional\n",
        "class ListNode:\n",
        "    def __init__(self, val=0, next=None):\n",
        "        self.val = val\n",
        "        self.next = next\n",
        "class Solution:\n",
        "    def addTwoNumbers(self, l1: Optional[ListNode], l2: Optional[ListNode]) -> Optional[ListNode]:\n",
        "       dummyHead = ListNode(0)\n",
        "       carry = 0\n",
        "       curr= dummyHead\n",
        "\n",
        "       while l1 or l2:\n",
        "           if l1:\n",
        "               l1_val = l1.val\n",
        "           else:\n",
        "               l1_val= 0\n",
        "           if l2:\n",
        "                l2_val = l2.val\n",
        "           else:\n",
        "                l2_val= 0\n",
        "\n",
        "           sum_ = l1_val + l2_val + carry\n",
        "\n",
        "           curr.next= ListNode(sum_%10)\n",
        "           curr = curr.next\n",
        "           carry = sum_ //10\n",
        "\n",
        "           if l1:\n",
        "                l1 = l1.next\n",
        "           if l2:\n",
        "                l2= l2.next\n",
        "\n",
        "       if carry:\n",
        "            curr.next = ListNode(carry)\n",
        "\n",
        "       return dummyHead.next\n",
        ""
      ]
    },
    {
      "cell_type": "code",
      "source": [
        "# Function to convert a list of numbers into a linked list\n",
        "def list_to_linked_list(nums):\n",
        "    dummy_head = ListNode(0)\n",
        "    current = dummy_head\n",
        "    for num in nums:\n",
        "        current.next = ListNode(num)\n",
        "        current = current.next\n",
        "    return dummy_head.next\n",
        "\n",
        "# Function to print a linked list\n",
        "def print_linked_list(head):\n",
        "    current = head\n",
        "    while current:\n",
        "        print(current.val, end=\" -> \")\n",
        "        current = current.next\n",
        "    print(\"None\")\n",
        "\n",
        "# Example usage:\n",
        "# Create two linked lists representing numbers: 2 -> 4 -> 3 and 5 -> 6 -> 4\n",
        "l1 = list_to_linked_list([2, 4, 3])\n",
        "l2 = list_to_linked_list([5, 6, 4])\n",
        "\n",
        "# Create an instance of the Solution class\n",
        "solution = Solution()\n",
        "\n",
        "# Add the two numbers represented by the linked lists\n",
        "result = solution.addTwoNumbers(l1, l2)\n",
        "\n",
        "# Print the resulting linked list (expected: 7 -> 0 -> 8)\n",
        "print_linked_list(result)"
      ],
      "metadata": {
        "colab": {
          "base_uri": "https://localhost:8080/"
        },
        "id": "CpL92z7pN31m",
        "outputId": "783ea6b9-a984-44c3-a3da-75f1022c4986"
      },
      "execution_count": 5,
      "outputs": [
        {
          "output_type": "stream",
          "name": "stdout",
          "text": [
            "7 -> 0 -> 8 -> None\n"
          ]
        }
      ]
    }
  ]
}