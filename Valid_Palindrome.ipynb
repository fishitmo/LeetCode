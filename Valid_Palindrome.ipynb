{
  "nbformat": 4,
  "nbformat_minor": 0,
  "metadata": {
    "colab": {
      "provenance": [],
      "authorship_tag": "ABX9TyOCXRkwXtscsma3+TSmBBDv",
      "include_colab_link": true
    },
    "kernelspec": {
      "name": "python3",
      "display_name": "Python 3"
    },
    "language_info": {
      "name": "python"
    }
  },
  "cells": [
    {
      "cell_type": "markdown",
      "metadata": {
        "id": "view-in-github",
        "colab_type": "text"
      },
      "source": [
        "<a href=\"https://colab.research.google.com/github/fishitmo/LeetCode/blob/main/Valid_Palindrome.ipynb\" target=\"_parent\"><img src=\"https://colab.research.google.com/assets/colab-badge.svg\" alt=\"Open In Colab\"/></a>"
      ]
    },
    {
      "cell_type": "markdown",
      "source": [
        "A phrase is a palindrome if, after converting all uppercase letters into lowercase letters and removing all non-alphanumeric characters, it reads the same forward and backward. Alphanumeric characters include letters and numbers.\n",
        "\n",
        "Given a string `s`, return true if it is a palindrome, or false otherwise.\n",
        "\n",
        "**Example 1:**\n",
        "\n",
        "Input: `s` = \"A man, a plan, a canal: Panama\"\n",
        "Output: true\n",
        "Explanation: \"amanaplanacanalpanama\" is a palindrome.\n",
        "\n",
        "**Example 2:**\n",
        "\n",
        "Input: `s` = \"race a car\"\n",
        "Output: false\n",
        "Explanation: \"raceacar\" is not a palindrome.\n",
        "\n",
        "**Example 3:**\n",
        "\n",
        "Input: `s` = \" \"\n",
        "Output: true\n",
        "Explanation: `s` is an empty string \"\" after removing non-alphanumeric characters. Since an empty string reads the same forward and backward, it is a palindrome.\n",
        "\n",
        "**Constraints:**\n",
        "\n",
        "1 <= `s.length` <= 2 * 10^5\n",
        "`s` consists only of printable ASCII characters.\n"
      ],
      "metadata": {
        "id": "gg_b2tnvQPkf"
      }
    },
    {
      "cell_type": "code",
      "execution_count": 1,
      "metadata": {
        "id": "8NREHvr-PtSa"
      },
      "outputs": [],
      "source": [
        "class Solution:\n",
        "  def isPalindrome(self, s: str) -> bool:\n",
        "    s = ''.join(ch.lower() for ch in s if ch.isalnum())\n",
        "    return s == s[::-1]"
      ]
    },
    {
      "cell_type": "code",
      "source": [
        "# Example\n",
        "\n",
        "sol = Solution()\n",
        "s1 = 'A man, a plan, a canal: Panama'\n",
        "s2 = 'race a car'\n",
        "s3 = ''\n",
        "s = [s1, s2, s3]\n",
        "for i in s:\n",
        "  print(f'The string \"{i}\" a Plaindrom is {sol.isPalindrome(i)}')"
      ],
      "metadata": {
        "colab": {
          "base_uri": "https://localhost:8080/"
        },
        "id": "muH1-GsuRR6I",
        "outputId": "022851c8-d230-4862-b187-76a76907ca05"
      },
      "execution_count": 5,
      "outputs": [
        {
          "output_type": "stream",
          "name": "stdout",
          "text": [
            "The string \"A man, a plan, a canal: Panama\" a Plaindrom is True\n",
            "The string \"race a car\" a Plaindrom is False\n",
            "The string \"\" a Plaindrom is True\n"
          ]
        }
      ]
    }
  ]
}