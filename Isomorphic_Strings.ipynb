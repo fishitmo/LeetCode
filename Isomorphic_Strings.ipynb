{
  "nbformat": 4,
  "nbformat_minor": 0,
  "metadata": {
    "colab": {
      "provenance": [],
      "authorship_tag": "ABX9TyOsPqmTziZjvKPZvbYH08XP",
      "include_colab_link": true
    },
    "kernelspec": {
      "name": "python3",
      "display_name": "Python 3"
    },
    "language_info": {
      "name": "python"
    }
  },
  "cells": [
    {
      "cell_type": "markdown",
      "metadata": {
        "id": "view-in-github",
        "colab_type": "text"
      },
      "source": [
        "<a href=\"https://colab.research.google.com/github/fishitmo/LeetCode/blob/main/Isomorphic_Strings.ipynb\" target=\"_parent\"><img src=\"https://colab.research.google.com/assets/colab-badge.svg\" alt=\"Open In Colab\"/></a>"
      ]
    },
    {
      "cell_type": "markdown",
      "source": [
        "Given two strings s and t, determine if they are isomorphic.\n",
        "\n",
        "Two strings s and t are isomorphic if the characters in s can be replaced to get t.\n",
        "\n",
        "All occurrences of a character must be replaced with another character while preserving the order of characters. No two characters may map to the same character, but a character may map to itself.\n",
        "\n",
        "Example 1:\n",
        "\n",
        "Input: s = \"egg\", t = \"add\"\n",
        "Output: true\n",
        "Example 2:\n",
        "\n",
        "Input: s = \"foo\", t = \"bar\"\n",
        "Output: false\n",
        "Example 3:\n",
        "\n",
        "Input: s = \"paper\", t = \"title\"\n",
        "Output: true\n",
        "\n",
        "Constraints:\n",
        "\n",
        "1 <= s.length <= 5 * 10^4\n",
        "t.length == s.length\n",
        "s and t consist of any valid ASCII character.\n"
      ],
      "metadata": {
        "id": "NJH9S-PwduEw"
      }
    },
    {
      "cell_type": "code",
      "execution_count": 1,
      "metadata": {
        "id": "OAot_Ttrdk--"
      },
      "outputs": [],
      "source": [
        "class Solution:\n",
        "  def isIsomorphic(self, s: str , t: str) -> bool:\n",
        "    if len(s) != len(t):\n",
        "      return False\n",
        "\n",
        "    s_m, t_m = {} , {}\n",
        "\n",
        "    for i in range(len(s)):\n",
        "      if s[i] in s_m:\n",
        "        if s_m[s[i]] != t[i]:\n",
        "          return False\n",
        "      else:\n",
        "        s_m[s[i]] = t[i]\n",
        "\n",
        "      if t[i] in t_m:\n",
        "        if t_m[t[i]] != s[i]:\n",
        "          return False\n",
        "\n",
        "      else:\n",
        "        t_m[t[i]] = s[i]\n",
        "\n",
        "    return True"
      ]
    },
    {
      "cell_type": "code",
      "source": [
        "sol = Solution()\n",
        "\n",
        "s = input('Enter the first string:')\n",
        "t = input('Enter the second string: ')\n",
        "\n",
        "print(f'The two strings {s} and {t} is isomorphic is {sol.isIsomorphic(s, t)}')"
      ],
      "metadata": {
        "colab": {
          "base_uri": "https://localhost:8080/"
        },
        "id": "yl2DxRd1iNJE",
        "outputId": "c44e0fa9-ed91-4912-da94-be6e6c2691ca"
      },
      "execution_count": 2,
      "outputs": [
        {
          "output_type": "stream",
          "name": "stdout",
          "text": [
            "Enter the first string:fish\n",
            "Enter the second string: meda\n",
            "The two strings fish and meda is isomorphic is True\n"
          ]
        }
      ]
    }
  ]
}