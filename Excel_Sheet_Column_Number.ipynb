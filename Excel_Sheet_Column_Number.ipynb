{
  "nbformat": 4,
  "nbformat_minor": 0,
  "metadata": {
    "colab": {
      "provenance": [],
      "authorship_tag": "ABX9TyOA1/itxdQDROj+sWtkTcgj",
      "include_colab_link": true
    },
    "kernelspec": {
      "name": "python3",
      "display_name": "Python 3"
    },
    "language_info": {
      "name": "python"
    }
  },
  "cells": [
    {
      "cell_type": "markdown",
      "metadata": {
        "id": "view-in-github",
        "colab_type": "text"
      },
      "source": [
        "<a href=\"https://colab.research.google.com/github/fishitmo/LeetCode/blob/main/Excel_Sheet_Column_Number.ipynb\" target=\"_parent\"><img src=\"https://colab.research.google.com/assets/colab-badge.svg\" alt=\"Open In Colab\"/></a>"
      ]
    },
    {
      "cell_type": "markdown",
      "source": [
        "Given a string `columnTitle` that represents the column title as it appears in an Excel sheet, return its corresponding column number.\n",
        "\n",
        "For example:\n",
        "\n",
        "- A -> 1\n",
        "- B -> 2\n",
        "- C -> 3\n",
        "- ...\n",
        "- Z -> 26\n",
        "- AA -> 27\n",
        "- AB -> 28\n",
        "- ...\n",
        "\n",
        "### Example 1:\n",
        "\n",
        "Input: `columnTitle` = \"A\"  \n",
        "Output: 1\n",
        "\n",
        "### Example 2:\n",
        "\n",
        "Input: `columnTitle` = \"AB\"  \n",
        "Output: 28\n",
        "\n",
        "### Example 3:\n",
        "\n",
        "Input: `columnTitle` = \"ZY\"  \n",
        "Output: 701\n",
        "\n",
        "#### Constraints:\n",
        "\n",
        "- 1 <= `columnTitle.length` <= 7\n",
        "- `columnTitle` consists only of uppercase English letters.\n",
        "- `columnTitle` is in the range [\"A\", \"FXSHRXW\"].\n"
      ],
      "metadata": {
        "id": "bJA5LzugwUqO"
      }
    },
    {
      "cell_type": "code",
      "execution_count": 2,
      "metadata": {
        "id": "ZMJP3ZVYvvOQ"
      },
      "outputs": [],
      "source": [
        "\n",
        "class Solution:\n",
        "  def titleToNumber(self, columnTitle: str) -> int:\n",
        "    columnNumber = 0\n",
        "\n",
        "    for char in columnTitle:\n",
        "      columnNumber = columnNumber * 26 + (ord(char) - ord('A') +1)\n",
        "    return columnNumber"
      ]
    },
    {
      "cell_type": "code",
      "source": [
        "# Examples\n",
        "\n",
        "sol = Solution()\n",
        "\n",
        "column_title = input(\"Enter the column title you need to change to column number: \")\n",
        "\n",
        "print(f'The columnt number of {column_title} is {sol.titleToNumber(column_title)}')"
      ],
      "metadata": {
        "colab": {
          "base_uri": "https://localhost:8080/"
        },
        "id": "t5Z0OxZY0nBR",
        "outputId": "a0b88aab-9f54-4890-80d8-090fa474a565"
      },
      "execution_count": 11,
      "outputs": [
        {
          "output_type": "stream",
          "name": "stdout",
          "text": [
            "Enter the column title you need to change to column number: ZY\n",
            "The columnt number of ZY is 701\n"
          ]
        }
      ]
    }
  ]
}