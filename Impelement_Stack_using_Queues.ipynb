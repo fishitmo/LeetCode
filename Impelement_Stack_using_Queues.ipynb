{
  "nbformat": 4,
  "nbformat_minor": 0,
  "metadata": {
    "colab": {
      "provenance": [],
      "authorship_tag": "ABX9TyP0FPyNLt454Z7QILiGWrkJ",
      "include_colab_link": true
    },
    "kernelspec": {
      "name": "python3",
      "display_name": "Python 3"
    },
    "language_info": {
      "name": "python"
    }
  },
  "cells": [
    {
      "cell_type": "markdown",
      "metadata": {
        "id": "view-in-github",
        "colab_type": "text"
      },
      "source": [
        "<a href=\"https://colab.research.google.com/github/fishitmo/LeetCode/blob/main/Impelement_Stack_using_Queues.ipynb\" target=\"_parent\"><img src=\"https://colab.research.google.com/assets/colab-badge.svg\" alt=\"Open In Colab\"/></a>"
      ]
    },
    {
      "cell_type": "markdown",
      "source": [
        "Implement a last-in-first-out (LIFO) stack using only two queues. The implemented stack should support all the functions of a normal stack (push, top, pop, and empty).\n",
        "\n",
        "Implement the `MyStack` class:\n",
        "\n",
        "- `void push(int x)`: Pushes element `x` to the top of the stack.\n",
        "- `int pop()`: Removes the element on the top of the stack and returns it.\n",
        "- `int top()`: Returns the element on the top of the stack.\n",
        "- `boolean empty()`: Returns `true` if the stack is empty, `false` otherwise.\n",
        "\n",
        "Notes:\n",
        "\n",
        "- You must use only standard operations of a queue, which means that only `push` to back, `peek`/`pop` from front, `size`, and `is empty` operations are valid.\n",
        "- Depending on your language, the queue may not be supported natively. You may simulate a queue using a list or deque (double-ended queue) as long as you use only a queue's standard operations.\n",
        "\n",
        "Example 1:\n",
        "\n",
        "Input\n",
        "[\"MyStack\", \"push\", \"push\", \"top\", \"pop\", \"empty\"]\n",
        "[[], [1], [2], [], [], []]\n",
        "Output\n",
        "[null, null, null, 2, 2, false]\n",
        "\n",
        "Explanation\n",
        "MyStack myStack = new MyStack();\n",
        "myStack.push(1);\n",
        "myStack.push(2);\n",
        "myStack.top(); // return 2\n",
        "myStack.pop(); // return 2\n",
        "myStack.empty(); // return False\n",
        "\n",
        "Constraints:\n",
        "\n",
        "- 1 <= x <= 9\n",
        "- At most 100 calls will be made to push, pop, top, and empty.\n",
        "- All the calls to pop and top are valid.\n"
      ],
      "metadata": {
        "id": "LnPYGTjrThlm"
      }
    },
    {
      "cell_type": "code",
      "execution_count": 5,
      "metadata": {
        "id": "k7pkK5-2S85L"
      },
      "outputs": [],
      "source": [
        "class MyStack:\n",
        "  def __init__(self):\n",
        "    self.queue = []\n",
        "\n",
        "  def push(self, x: int) -> None:\n",
        "\n",
        "    self.queue.append(x)\n",
        "    size = len(self.queue)\n",
        "\n",
        "    for _ in range(size -1):\n",
        "      self.queue.append(self.queue.pop(0))\n",
        "\n",
        "  def pop(self) -> int:\n",
        "    return self.queue.pop(0)\n",
        "\n",
        "  def top(self) -> int:\n",
        "    \"\"\"\n",
        "    Get the top element\n",
        "    \"\"\"\n",
        "    return self.queue[0]\n",
        "  def empty(self) -> bool:\n",
        "    \"\"\"\n",
        "    Return whether the stack is empty.\n",
        "    \"\"\"\n",
        "    return len(self.queue) == 0"
      ]
    },
    {
      "cell_type": "code",
      "source": [
        "# Your MyStack object will be instantiated and called as such:\n",
        "obj = MyStack()\n",
        "obj.push(3)\n",
        "obj.push(5)\n",
        "param_2 = obj.pop()\n",
        "param_3 = obj.top()\n",
        "param_4 = obj.empty()\n",
        "print(param_3)\n",
        "print(param_4)"
      ],
      "metadata": {
        "colab": {
          "base_uri": "https://localhost:8080/"
        },
        "id": "4B6Z-FxcI34f",
        "outputId": "095f0d0f-4ef3-4eba-dfce-a0f7fa4097f6"
      },
      "execution_count": 9,
      "outputs": [
        {
          "output_type": "stream",
          "name": "stdout",
          "text": [
            "3\n",
            "False\n"
          ]
        }
      ]
    }
  ]
}