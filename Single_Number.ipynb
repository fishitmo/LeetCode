{
  "nbformat": 4,
  "nbformat_minor": 0,
  "metadata": {
    "colab": {
      "provenance": [],
      "authorship_tag": "ABX9TyNwYVCuJiRNrOm1MR2r0ocd",
      "include_colab_link": true
    },
    "kernelspec": {
      "name": "python3",
      "display_name": "Python 3"
    },
    "language_info": {
      "name": "python"
    }
  },
  "cells": [
    {
      "cell_type": "markdown",
      "metadata": {
        "id": "view-in-github",
        "colab_type": "text"
      },
      "source": [
        "<a href=\"https://colab.research.google.com/github/fishitmo/LeetCode/blob/main/Single_Number.ipynb\" target=\"_parent\"><img src=\"https://colab.research.google.com/assets/colab-badge.svg\" alt=\"Open In Colab\"/></a>"
      ]
    },
    {
      "cell_type": "markdown",
      "source": [
        "Given a non-empty array of integers nums, every element appears twice except for one. Find that single one.\n",
        "\n",
        "You must implement a solution with a linear runtime complexity and use only constant extra space.\n",
        "\n",
        "**Example 1:**\n",
        "\n",
        "Input: nums = [2,2,1]\n",
        "Output: 1\n",
        "\n",
        "**Example 2:**\n",
        "\n",
        "Input: nums = [4,1,2,1,2]\n",
        "Output: 4\n",
        "\n",
        "**Example 3:**\n",
        "\n",
        "Input: nums = [1]\n",
        "Output: 1\n",
        "\n",
        "**Constraints:**\n",
        "\n",
        "1 <= nums.length <= 3 * 10^4\n",
        "-3 * 10^4 <= nums[i] <= 3 * 10^4\n",
        "Each element in the array appears twice except for one element which appears only once.\n"
      ],
      "metadata": {
        "id": "Mi1dOTT-i-v1"
      }
    },
    {
      "cell_type": "code",
      "execution_count": 2,
      "metadata": {
        "id": "gIY_v-lSZG5q"
      },
      "outputs": [],
      "source": [
        "from typing import List\n",
        "class Solution:\n",
        "  def singleNumber(self, nums: List[int]) -> int:\n",
        "    res = 0\n",
        "\n",
        "    for num in nums:\n",
        "      res ^= num\n",
        "    return res"
      ]
    },
    {
      "cell_type": "code",
      "source": [
        "sol = Solution()\n",
        "\n",
        "nums1 = [2,2,1]\n",
        "nums2 = [4,1,2,1,2]\n",
        "nums3 = [1, 3, 5, 2, 3, 1, 5]\n",
        "\n",
        "nums = [nums1 , nums2 , nums3]\n",
        "\n",
        "for i in nums:\n",
        "  print(f\"The single one in the aray {i} is {sol.singleNumber(i)}\")"
      ],
      "metadata": {
        "colab": {
          "base_uri": "https://localhost:8080/"
        },
        "id": "SJSrqvtqkFMg",
        "outputId": "37a5223a-b221-4985-849d-7a71db836b04"
      },
      "execution_count": 4,
      "outputs": [
        {
          "output_type": "stream",
          "name": "stdout",
          "text": [
            "The single one in the aray [2, 2, 1] is 1\n",
            "The single one in the aray [4, 1, 2, 1, 2] is 4\n",
            "The single one in the aray [1, 3, 5, 2, 3, 1, 5] is 2\n"
          ]
        }
      ]
    }
  ]
}