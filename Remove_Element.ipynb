{
  "nbformat": 4,
  "nbformat_minor": 0,
  "metadata": {
    "colab": {
      "provenance": [],
      "authorship_tag": "ABX9TyPD6CsNnYwQB2saKAnHTyyb",
      "include_colab_link": true
    },
    "kernelspec": {
      "name": "python3",
      "display_name": "Python 3"
    },
    "language_info": {
      "name": "python"
    }
  },
  "cells": [
    {
      "cell_type": "markdown",
      "metadata": {
        "id": "view-in-github",
        "colab_type": "text"
      },
      "source": [
        "<a href=\"https://colab.research.google.com/github/fishitmo/LeetCode/blob/main/Remove_Element.ipynb\" target=\"_parent\"><img src=\"https://colab.research.google.com/assets/colab-badge.svg\" alt=\"Open In Colab\"/></a>"
      ]
    },
    {
      "cell_type": "markdown",
      "source": [
        "Given an integer array `nums` and an integer `val`, remove all occurrences of `val` in `nums` in-place. The order of the elements may be changed. Then return the number of elements in `nums` which are not equal to `val`.\n",
        "\n",
        "Consider the number of elements in `nums` which are not equal to `val` be `k`, to get accepted, you need to do the following things:\n",
        "\n",
        "1. Change the array `nums` such that the first `k` elements of `nums` contain the elements which are not equal to `val`. The remaining elements of `nums` are not important as well as the size of `nums`.\n",
        "2. Return `k`.\n",
        "\n",
        "**Custom Judge:**\n",
        "\n",
        "The judge will test your solution with the following code:\n",
        "\n",
        "```java\n",
        "int[] nums = [...]; // Input array\n",
        "int val = ...; // Value to remove\n",
        "int[] expectedNums = [...]; // The expected answer with correct length.\n",
        "                            // It is sorted with no values equaling val.\n",
        "\n",
        "int k = removeElement(nums, val); // Calls your implementation\n",
        "\n",
        "assert k == expectedNums.length;\n",
        "sort(nums, 0, k); // Sort the first k elements of nums\n",
        "for (int i = 0; i < actualLength; i++) {\n",
        "    assert nums[i] == expectedNums[i];\n",
        "}\n",
        "\n",
        "### Example 1:\n",
        "\n",
        "**Input:** nums = [3,2,2,3], val = 3  \n",
        "**Output:** 2, nums = [2,2,_,_]  \n",
        "**Explanation:** Your function should return k = 2, with the first two elements of nums being 2. It does not matter what you leave beyond the returned k (hence they are underscores).\n",
        "\n",
        "### Example 2:\n",
        "\n",
        "**Input:** nums = [0,1,2,2,3,0,4,2], val = 2  \n",
        "**Output:** 5, nums = [0,1,4,0,3,_,_,_]  \n",
        "**Explanation:** Your function should return k = 5, with the first five elements of nums containing 0, 0, 1, 3, and 4. Note that the five elements can be returned in any order. It does not matter what you leave beyond the returned k (hence they are underscores).\n",
        "\n",
        "### Constraints:\n",
        "\n",
        "- 0 <= nums.length <= 100\n",
        "- 0 <= nums[i] <= 50\n",
        "- 0 <= val <= 100\n"
      ],
      "metadata": {
        "id": "Viay0LdVrUmC"
      }
    },
    {
      "cell_type": "code",
      "execution_count": 2,
      "metadata": {
        "id": "CshL2y1Aqpe3"
      },
      "outputs": [],
      "source": [
        "from typing import List\n",
        "class Solution:\n",
        "  def removeElement(self , nums: List[int], val: int) -> int:\n",
        "      k=0\n",
        "\n",
        "      for i in range(len(nums)):\n",
        "        if nums[i] !=val:\n",
        "          nums[k]= nums[i]\n",
        "          k +=1\n",
        "      return k"
      ]
    },
    {
      "cell_type": "code",
      "source": [
        "nums1= [3,2,2,3]\n",
        "val1 = 3\n",
        "\n",
        "solutions= Solution()\n",
        "output1 = solutions.removeElement(nums1, val1)\n",
        "\n",
        "print(f'The number of elemnts that are different from the given value are: {output1}')\n",
        "\n",
        "\n",
        "nums2= [0,1,2,2,3,0,4,2]\n",
        "val2 = 2\n",
        "\n",
        "solutions= Solution()\n",
        "output2 = solutions.removeElement(nums2, val2)\n",
        "\n",
        "print(f'The number of elemnts that are different from the given value are: {output2}')"
      ],
      "metadata": {
        "colab": {
          "base_uri": "https://localhost:8080/"
        },
        "id": "DDDGyvH6se7j",
        "outputId": "3e4bc493-0c28-4f05-8fe5-5e38ed78ffc4"
      },
      "execution_count": 3,
      "outputs": [
        {
          "output_type": "stream",
          "name": "stdout",
          "text": [
            "The number of elemnts that are different from the given value are: 2\n",
            "The number of elemnts that are different from the given value are: 5\n"
          ]
        }
      ]
    }
  ]
}