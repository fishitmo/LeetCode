{
  "nbformat": 4,
  "nbformat_minor": 0,
  "metadata": {
    "colab": {
      "provenance": [],
      "authorship_tag": "ABX9TyMjoV0G1Yd6Rbc2kyEJSuzw",
      "include_colab_link": true
    },
    "kernelspec": {
      "name": "python3",
      "display_name": "Python 3"
    },
    "language_info": {
      "name": "python"
    }
  },
  "cells": [
    {
      "cell_type": "markdown",
      "metadata": {
        "id": "view-in-github",
        "colab_type": "text"
      },
      "source": [
        "<a href=\"https://colab.research.google.com/github/fishitmo/LeetCode/blob/main/Two_Sum.ipynb\" target=\"_parent\"><img src=\"https://colab.research.google.com/assets/colab-badge.svg\" alt=\"Open In Colab\"/></a>"
      ]
    },
    {
      "cell_type": "code",
      "execution_count": 4,
      "metadata": {
        "id": "hekI_uscEG31"
      },
      "outputs": [],
      "source": [
        "class Solution:\n",
        "  def twoSum(self, nums, target):\n",
        "      h = {}\n",
        "      for i in range(len(nums)):\n",
        "        h[nums[i]] = i\n",
        "\n",
        "      for i in range(len(nums)):\n",
        "        y= target - nums[i]\n",
        "\n",
        "        if y in h and h[y] !=i:\n",
        "          return[i,h[y]]\n"
      ]
    },
    {
      "cell_type": "code",
      "source": [
        "solution= Solution()\n",
        "nums1 = [2,7, 11, 13]\n",
        "target1 = 9\n",
        "print(solution.twoSum(nums1, target1)) #output: [0,1]"
      ],
      "metadata": {
        "colab": {
          "base_uri": "https://localhost:8080/"
        },
        "id": "fqQoEZjkHWVc",
        "outputId": "0bb510c6-c520-40e9-d666-25a9dfbfcf2a"
      },
      "execution_count": 6,
      "outputs": [
        {
          "output_type": "stream",
          "name": "stdout",
          "text": [
            "[0, 1]\n"
          ]
        }
      ]
    }
  ]
}