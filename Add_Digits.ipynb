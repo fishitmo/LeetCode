{
  "nbformat": 4,
  "nbformat_minor": 0,
  "metadata": {
    "colab": {
      "provenance": [],
      "authorship_tag": "ABX9TyOb5ptBOQU4aeKuiraV/L4y",
      "include_colab_link": true
    },
    "kernelspec": {
      "name": "python3",
      "display_name": "Python 3"
    },
    "language_info": {
      "name": "python"
    }
  },
  "cells": [
    {
      "cell_type": "markdown",
      "metadata": {
        "id": "view-in-github",
        "colab_type": "text"
      },
      "source": [
        "<a href=\"https://colab.research.google.com/github/fishitmo/LeetCode/blob/main/Add_Digits.ipynb\" target=\"_parent\"><img src=\"https://colab.research.google.com/assets/colab-badge.svg\" alt=\"Open In Colab\"/></a>"
      ]
    },
    {
      "cell_type": "markdown",
      "source": [
        "Given an integer num, repeatedly add all its digits until the result has only one digit, and return it.\n",
        "\n",
        "**Example 1:**\n",
        "\n",
        "Input: num = 38\n",
        "Output: 2\n",
        "Explanation: The process is\n",
        "38 --> 3 + 8 --> 11\n",
        "11 --> 1 + 1 --> 2\n",
        "Since 2 has only one digit, return it.\n",
        "\n",
        "**Example 2:**\n",
        "\n",
        "Input: num = 0\n",
        "Output: 0\n",
        "\n",
        "**Constraints:**\n",
        "\n",
        "0 <= num <= 2^31 - 1\n",
        "\n",
        "**Follow up:** Could you do it without any loop/recursion in O(1) runtime?\n"
      ],
      "metadata": {
        "id": "4j3wg5J8DwdW"
      }
    },
    {
      "cell_type": "code",
      "execution_count": 1,
      "metadata": {
        "id": "EwEr2fD9Dfmi"
      },
      "outputs": [],
      "source": [
        "class Solution:\n",
        "  def addDigits(self, num: int) -> int:\n",
        "    while num >=10:\n",
        "      num = sum(int(digit) for digit in str(num) )\n",
        "    return num"
      ]
    },
    {
      "cell_type": "code",
      "source": [
        "soln = Solution()\n",
        "user_input = input(\"Enter an integer: \")\n",
        "print(f'For an integer {user_input} by repeatedly adding all its digits until it remains a single digit, the end result is {soln.addDigits(int(user_input))}')"
      ],
      "metadata": {
        "colab": {
          "base_uri": "https://localhost:8080/"
        },
        "id": "LZ0F83eOrC7M",
        "outputId": "49c88711-dd9e-4383-f21f-b93d13a1c98c"
      },
      "execution_count": 3,
      "outputs": [
        {
          "output_type": "stream",
          "name": "stdout",
          "text": [
            "Enter an integer: 1245\n",
            "For an integer 1245 by repeatedly adding all its digits until it remains a single digit, the end result is 3\n"
          ]
        }
      ]
    }
  ]
}