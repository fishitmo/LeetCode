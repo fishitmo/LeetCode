{
  "nbformat": 4,
  "nbformat_minor": 0,
  "metadata": {
    "colab": {
      "provenance": [],
      "authorship_tag": "ABX9TyOb5ptBOQU4aeKuiraV/L4y",
      "include_colab_link": true
    },
    "kernelspec": {
      "name": "python3",
      "display_name": "Python 3"
    },
    "language_info": {
      "name": "python"
    }
  },
  "cells": [
    {
      "cell_type": "markdown",
      "metadata": {
        "id": "view-in-github",
        "colab_type": "text"
      },
      "source": [
        "<a href=\"https://colab.research.google.com/github/fishitmo/LeetCode/blob/main/Add_Digits.ipynb\" target=\"_parent\"><img src=\"https://colab.research.google.com/assets/colab-badge.svg\" alt=\"Open In Colab\"/></a>"
      ]
    },
    {
      "cell_type": "markdown",
      "source": [
        "Given an integer num, repeatedly add all its digits until the result has only one digit, and return it.\n",
        "\n",
        "**Example 1:**\n",
        "\n",
        "Input: num = 38\n",
        "Output: 2\n",
        "Explanation: The process is\n",
        "38 --> 3 + 8 --> 11\n",
        "11 --> 1 + 1 --> 2\n",
        "Since 2 has only one digit, return it.\n",
        "\n",
        "**Example 2:**\n",
        "\n",
        "Input: num = 0\n",
        "Output: 0\n",
        "\n",
        "**Constraints:**\n",
        "\n",
        "0 <= num <= 2^31 - 1\n",
        "\n",
        "**Follow up:** Could you do it without any loop/recursion in O(1) runtime?\n"
      ],
      "metadata": {
        "id": "4j3wg5J8DwdW"
      }
    },
    {
      "cell_type": "code",
      "execution_count": 24,
      "metadata": {
        "id": "EwEr2fD9Dfmi"
      },
      "outputs": [],
      "source": [
        "class Solution:\n",
        "  def addDigits(self, num: int) -> int:\n",
        "    while num >=10:\n",
        "      num = sum(int(digit) for digit in str(num) )\n",
        "    return num"
      ]
    },
    {
      "cell_type": "code",
      "source": [
        "soln = Solution()\n",
        "user_input = input(\"Enter an integer: \")\n",
        "print(f'For an integer {user_input} by repeatedly adding all its digits until it remains a single digit, the end result is {soln.addDigits(int(user_input))}')"
      ],
      "metadata": {
        "colab": {
          "base_uri": "https://localhost:8080/",
          "height": 197
        },
        "id": "LZ0F83eOrC7M",
        "outputId": "e96b578c-0c8c-4e28-d941-e1632b6cc12a"
      },
      "execution_count": 28,
      "outputs": [
        {
          "output_type": "error",
          "ename": "TypeError",
          "evalue": "'str' object is not callable",
          "traceback": [
            "\u001b[0;31m---------------------------------------------------------------------------\u001b[0m",
            "\u001b[0;31mTypeError\u001b[0m                                 Traceback (most recent call last)",
            "\u001b[0;32m<ipython-input-28-38631e2e31ba>\u001b[0m in \u001b[0;36m<cell line: 2>\u001b[0;34m()\u001b[0m\n\u001b[1;32m      1\u001b[0m \u001b[0msoln\u001b[0m \u001b[0;34m=\u001b[0m \u001b[0mSolution\u001b[0m\u001b[0;34m(\u001b[0m\u001b[0;34m)\u001b[0m\u001b[0;34m\u001b[0m\u001b[0;34m\u001b[0m\u001b[0m\n\u001b[0;32m----> 2\u001b[0;31m \u001b[0muser_input\u001b[0m \u001b[0;34m=\u001b[0m \u001b[0minput\u001b[0m\u001b[0;34m(\u001b[0m\u001b[0;34m\"Enter an integer: \"\u001b[0m\u001b[0;34m)\u001b[0m\u001b[0;34m\u001b[0m\u001b[0;34m\u001b[0m\u001b[0m\n\u001b[0m\u001b[1;32m      3\u001b[0m \u001b[0mprint\u001b[0m\u001b[0;34m(\u001b[0m\u001b[0;34mf'For an integer {user_input} by repeatedly adding all its digits until it remains a single digit, the end result is {soln.addDigits(int(user_input))}'\u001b[0m\u001b[0;34m)\u001b[0m\u001b[0;34m\u001b[0m\u001b[0;34m\u001b[0m\u001b[0m\n",
            "\u001b[0;31mTypeError\u001b[0m: 'str' object is not callable"
          ]
        }
      ]
    }
  ]
}