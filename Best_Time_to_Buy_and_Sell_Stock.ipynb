{
  "nbformat": 4,
  "nbformat_minor": 0,
  "metadata": {
    "colab": {
      "provenance": [],
      "authorship_tag": "ABX9TyOR8euredV6Br4Jyqpo4U00",
      "include_colab_link": true
    },
    "kernelspec": {
      "name": "python3",
      "display_name": "Python 3"
    },
    "language_info": {
      "name": "python"
    }
  },
  "cells": [
    {
      "cell_type": "markdown",
      "metadata": {
        "id": "view-in-github",
        "colab_type": "text"
      },
      "source": [
        "<a href=\"https://colab.research.google.com/github/fishitmo/LeetCode/blob/main/Best_Time_to_Buy_and_Sell_Stock.ipynb\" target=\"_parent\"><img src=\"https://colab.research.google.com/assets/colab-badge.svg\" alt=\"Open In Colab\"/></a>"
      ]
    },
    {
      "cell_type": "markdown",
      "source": [
        "You are given an array `prices` where `prices[i]` is the price of a given stock on the ith day.\n",
        "\n",
        "You want to maximize your profit by choosing a single day to buy one stock and choosing a different day in the future to sell that stock.\n",
        "\n",
        "Return the maximum profit you can achieve from this transaction. If you cannot achieve any profit, return 0.\n",
        "\n",
        "**Example 1:**\n",
        "\n",
        "Input: `prices` = [7,1,5,3,6,4]\n",
        "Output: 5\n",
        "Explanation: Buy on day 2 (price = 1) and sell on day 5 (price = 6), profit = 6-1 = 5.\n",
        "Note that buying on day 2 and selling on day 1 is not allowed because you must buy before you sell.\n",
        "\n",
        "**Example 2:**\n",
        "\n",
        "Input: `prices` = [7,6,4,3,1]\n",
        "Output: 0\n",
        "Explanation: In this case, no transactions are done and the max profit = 0.\n",
        "\n",
        "**Constraints:**\n",
        "\n",
        "1 <= `prices.length` <= 10^5\n",
        "0 <= `prices[i]` <= 10^4\n"
      ],
      "metadata": {
        "id": "Kgo3DWcXMVCm"
      }
    },
    {
      "cell_type": "code",
      "execution_count": 1,
      "metadata": {
        "id": "BEhRF_l1Leqm"
      },
      "outputs": [],
      "source": [
        "from typing import List\n",
        "\n",
        "class Solution:\n",
        "  def maxProfit(self , prices: List[int]) -> int:\n",
        "    if not prices:\n",
        "      return 0\n",
        "    min_price = prices[0]\n",
        "    max_profit = 0\n",
        "\n",
        "    for price in prices:\n",
        "      min_price = min(min_price , price)\n",
        "      max_profit = max(max_profit, price - min_price)\n",
        "    return max_profit"
      ]
    },
    {
      "cell_type": "code",
      "source": [
        "# Example\n",
        "sol = Solution()\n",
        "\n",
        "prices = [7,1,5,3,6,4]\n",
        "\n",
        "print(f'The Maximum profit is {sol.maxProfit(prices)}')"
      ],
      "metadata": {
        "colab": {
          "base_uri": "https://localhost:8080/"
        },
        "id": "Xd2j5cXgOJT5",
        "outputId": "9ea0aaa4-59a5-49ed-b733-749f88e361ce"
      },
      "execution_count": 2,
      "outputs": [
        {
          "output_type": "stream",
          "name": "stdout",
          "text": [
            "The Maximum profit is 5\n"
          ]
        }
      ]
    }
  ]
}