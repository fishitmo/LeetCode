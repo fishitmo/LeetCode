{
  "nbformat": 4,
  "nbformat_minor": 0,
  "metadata": {
    "colab": {
      "provenance": [],
      "authorship_tag": "ABX9TyPz9O5VmiDPCuu4CfwmHXcg",
      "include_colab_link": true
    },
    "kernelspec": {
      "name": "python3",
      "display_name": "Python 3"
    },
    "language_info": {
      "name": "python"
    }
  },
  "cells": [
    {
      "cell_type": "markdown",
      "metadata": {
        "id": "view-in-github",
        "colab_type": "text"
      },
      "source": [
        "<a href=\"https://colab.research.google.com/github/fishitmo/LeetCode/blob/main/Majority_Element.ipynb\" target=\"_parent\"><img src=\"https://colab.research.google.com/assets/colab-badge.svg\" alt=\"Open In Colab\"/></a>"
      ]
    },
    {
      "cell_type": "markdown",
      "source": [
        "Given an array `nums` of size `n`, return the majority element.\n",
        "\n",
        "The majority element is the element that appears more than ⌊n / 2⌋ times. You may assume that the majority element always exists in the array.\n",
        "\n",
        "**Example 1:**\n",
        "\n",
        "Input: `nums` = [3,2,3]\n",
        "Output: `3`\n",
        "\n",
        "**Example 2:**\n",
        "\n",
        "Input: `nums` = [2,2,1,1,1,2,2]\n",
        "Output: `2`\n",
        "\n",
        "**Constraints:**\n",
        "\n",
        "- `n == nums.length`\n",
        "- `1 <= n <= 5 * 10^4`\n",
        "- `-10^9 <= nums[i] <= 10^9`\n",
        "\n",
        "**Follow-up:** Could you solve the problem in linear time and in O(1) space?\n"
      ],
      "metadata": {
        "id": "0qmITXq8Vsni"
      }
    },
    {
      "cell_type": "code",
      "execution_count": 2,
      "metadata": {
        "id": "OzIjuXgEU1z9"
      },
      "outputs": [],
      "source": [
        "from typing import List\n",
        "class Solution:\n",
        "  def majorityElement(self, nums: List[int]) -> int:\n",
        "    candidate = None\n",
        "    count = 0\n",
        "\n",
        "    for num in nums:\n",
        "      if count == 0:\n",
        "        candidate = num\n",
        "\n",
        "      count += (1 if num == candidate else -1)\n",
        "    return candidate if nums.count(candidate) > len(nums) // 2 else None"
      ]
    },
    {
      "cell_type": "code",
      "source": [
        "# Examples\n",
        "\n",
        "sol = Solution()\n",
        "\n",
        "l1 = [3,2,3]\n",
        "l2 = [2,2,1,1,1,2,2]\n",
        "l3 = [2,2,1,1,1,1,2]\n",
        "\n",
        "print(f'Majority element of the list {l1} is {sol.majorityElement(l1)}')\n",
        "print(f'Majority element of the list {l2} is {sol.majorityElement(l2)}')\n",
        "print(f'Majority element of the list {l3} is {sol.majorityElement(l3)}')"
      ],
      "metadata": {
        "colab": {
          "base_uri": "https://localhost:8080/"
        },
        "id": "QHhPoPIJYEo3",
        "outputId": "efd80047-0452-4014-c7e6-6ce01273f4b0"
      },
      "execution_count": 4,
      "outputs": [
        {
          "output_type": "stream",
          "name": "stdout",
          "text": [
            "Majority element of the list [3, 2, 3] is 3\n",
            "Majority element of the list [2, 2, 1, 1, 1, 2, 2] is 2\n",
            "Majority element of the list [2, 2, 1, 1, 1, 1, 2] is 1\n"
          ]
        }
      ]
    }
  ]
}