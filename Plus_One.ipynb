{
  "nbformat": 4,
  "nbformat_minor": 0,
  "metadata": {
    "colab": {
      "provenance": [],
      "authorship_tag": "ABX9TyP/xpCjZ+jfQnkN6hZuG+zU",
      "include_colab_link": true
    },
    "kernelspec": {
      "name": "python3",
      "display_name": "Python 3"
    },
    "language_info": {
      "name": "python"
    }
  },
  "cells": [
    {
      "cell_type": "markdown",
      "metadata": {
        "id": "view-in-github",
        "colab_type": "text"
      },
      "source": [
        "<a href=\"https://colab.research.google.com/github/fishitmo/LeetCode/blob/main/Plus_One.ipynb\" target=\"_parent\"><img src=\"https://colab.research.google.com/assets/colab-badge.svg\" alt=\"Open In Colab\"/></a>"
      ]
    },
    {
      "cell_type": "markdown",
      "source": [
        "You are given a large integer represented as an integer array `digits`, where each `digits[i]` is the ith digit of the integer. The digits are ordered from most significant to least significant in left-to-right order. The large integer does not contain any leading 0's.\n",
        "\n",
        "Increment the large integer by one and return the resulting array of digits.\n",
        "\n",
        "**Example 1:**\n",
        "\n",
        "Input: `digits = [1,2,3]`\n",
        "Output: `[1,2,4]`\n",
        "Explanation: The array represents the integer 123.\n",
        "Incrementing by one gives 123 + 1 = 124.\n",
        "Thus, the result should be `[1,2,4]`.\n",
        "\n",
        "**Example 2:**\n",
        "\n",
        "Input: `digits = [4,3,2,1]`\n",
        "Output: `[4,3,2,2]`\n",
        "Explanation: The array represents the integer 4321.\n",
        "Incrementing by one gives 4321 + 1 = 4322.\n",
        "Thus, the result should be `[4,3,2,2]`.\n",
        "\n",
        "**Example 3:**\n",
        "\n",
        "Input: `digits = [9]`\n",
        "Output: `[1,0]`\n",
        "Explanation: The array represents the integer 9.\n",
        "Incrementing by one gives 9 + 1 = 10.\n",
        "Thus, the result should be `[1,0]`.\n",
        "\n",
        "**Constraints:**\n",
        "\n",
        "- 1 <= `digits.length` <= 100\n",
        "- 0 <= `digits[i]` <= 9\n",
        "- `digits` does not contain any leading 0's.\n"
      ],
      "metadata": {
        "id": "Ryrbl-q7TSbH"
      }
    },
    {
      "cell_type": "code",
      "execution_count": 4,
      "metadata": {
        "id": "sRt1-BSPS1HX"
      },
      "outputs": [],
      "source": [
        "from typing import List\n",
        "class Solution:\n",
        "    def plusOne(self, digits: List[int]) -> List[int]:\n",
        "        digits = digits[::-1]\n",
        "        one, i = 1,0\n",
        "\n",
        "        while one:\n",
        "            if i< len(digits):\n",
        "                if digits[i] ==9:\n",
        "                    digits[i] = 0\n",
        "                else:\n",
        "                    digits[i] +=1\n",
        "                    one =0\n",
        "            else:\n",
        "                digits.append(1)\n",
        "                one= 0\n",
        "            i +=1\n",
        "        return digits[::-1]"
      ]
    },
    {
      "cell_type": "code",
      "source": [
        "digits1 = [1,2,3]\n",
        "digits2 = [4,3,2,1]\n",
        "digits3 = [9]\n",
        "digits4 = [9,9,9]\n",
        "\n",
        "lstd = [digits1,digits2,digits3, digits4]\n",
        "solution = Solution()\n",
        "\n",
        "for i in lstd:\n",
        "  print(f'Increment the large integer of digit {i} by one and it return {solution.plusOne(i)} ')"
      ],
      "metadata": {
        "colab": {
          "base_uri": "https://localhost:8080/"
        },
        "id": "VNfhOpW3T7xK",
        "outputId": "293e7ee2-d5b2-4940-bb82-397fc62cebd3"
      },
      "execution_count": 5,
      "outputs": [
        {
          "output_type": "stream",
          "name": "stdout",
          "text": [
            "Increment the large integer of digit [1, 2, 3] by one and it return [1, 2, 4] \n",
            "Increment the large integer of digit [4, 3, 2, 1] by one and it return [4, 3, 2, 2] \n",
            "Increment the large integer of digit [9] by one and it return [1, 0] \n",
            "Increment the large integer of digit [9, 9, 9] by one and it return [1, 0, 0, 0] \n"
          ]
        }
      ]
    }
  ]
}