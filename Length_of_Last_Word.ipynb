{
  "nbformat": 4,
  "nbformat_minor": 0,
  "metadata": {
    "colab": {
      "provenance": [],
      "authorship_tag": "ABX9TyM+xxdUne+nJjztsNqQTobY",
      "include_colab_link": true
    },
    "kernelspec": {
      "name": "python3",
      "display_name": "Python 3"
    },
    "language_info": {
      "name": "python"
    }
  },
  "cells": [
    {
      "cell_type": "markdown",
      "metadata": {
        "id": "view-in-github",
        "colab_type": "text"
      },
      "source": [
        "<a href=\"https://colab.research.google.com/github/fishitmo/LeetCode/blob/main/Length_of_Last_Word.ipynb\" target=\"_parent\"><img src=\"https://colab.research.google.com/assets/colab-badge.svg\" alt=\"Open In Colab\"/></a>"
      ]
    },
    {
      "cell_type": "markdown",
      "source": [
        "Given a string `s` consisting of words and spaces, return the length of the last word in the string.\n",
        "\n",
        "A word is a maximal substring consisting of non-space characters only.\n",
        "\n",
        "**Example 1:**\n",
        "\n",
        "Input: s = \"Hello World\"\n",
        "Output: 5\n",
        "Explanation: The last word is \"World\" with length 5.\n",
        "\n",
        "**Example 2:**\n",
        "Input: s = \" fly me to the moon \"\n",
        "Output: 4\n",
        "Explanation: The last word is \"moon\" with length 4.\n",
        "\n",
        "**Example 3:**\n",
        "\n",
        "Input: s = \"luffy is still joyboy\"\n",
        "Output: 6\n",
        "Explanation: The last word is \"joyboy\" with length 6.\n",
        "\n",
        "Constraints:\n",
        "\n",
        "1 <= s.length <= 104\n",
        "s consists of only English letters and spaces ' '.\n",
        "There will be at least one word in s.\n"
      ],
      "metadata": {
        "id": "P2QgkBuR7pl1"
      }
    },
    {
      "cell_type": "code",
      "execution_count": 1,
      "metadata": {
        "id": "AqvjENZX7DIh"
      },
      "outputs": [],
      "source": [
        "class Solution:\n",
        "   def lengthOfLastWord(self, s: str) -> int:\n",
        "      i, length = len(s) -1, 0\n",
        "\n",
        "      while s[i] == \" \":\n",
        "        i -= 1\n",
        "\n",
        "      while i >=0 and s[i] != \" \":\n",
        "        length +=1\n",
        "        i -=1\n",
        "      return length"
      ]
    },
    {
      "cell_type": "code",
      "source": [
        "s1 = \"Hello World\"\n",
        "s2 = \" fly me to the moon \"\n",
        "s3 = \"luffy is still joyboy\"\n",
        "solution = Solution()\n",
        "output1 = solution.lengthOfLastWord(s1)\n",
        "output2 = solution.lengthOfLastWord(s2)\n",
        "output3 = solution.lengthOfLastWord(s3)\n",
        "\n",
        "st = [s1, s2, s3]\n",
        "op = [output1, output2, output3]\n",
        "\n",
        "for s,p in zip(st,op):\n",
        "    print(f'The length of the last word in the string {s} is {p}')"
      ],
      "metadata": {
        "id": "xYlewQvmeIZ9",
        "outputId": "9343d03b-93c7-4741-feaf-c73e76a50fca",
        "colab": {
          "base_uri": "https://localhost:8080/"
        }
      },
      "execution_count": 3,
      "outputs": [
        {
          "output_type": "stream",
          "name": "stdout",
          "text": [
            "The length of the last word in the string Hello World is 5\n",
            "The length of the last word in the string  fly me to the moon  is 4\n",
            "The length of the last word in the string luffy is still joyboy is 6\n"
          ]
        }
      ]
    }
  ]
}