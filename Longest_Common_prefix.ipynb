{
  "nbformat": 4,
  "nbformat_minor": 0,
  "metadata": {
    "colab": {
      "provenance": [],
      "authorship_tag": "ABX9TyMg04PLkfQ3T66WaKc3NR4I",
      "include_colab_link": true
    },
    "kernelspec": {
      "name": "python3",
      "display_name": "Python 3"
    },
    "language_info": {
      "name": "python"
    }
  },
  "cells": [
    {
      "cell_type": "markdown",
      "metadata": {
        "id": "view-in-github",
        "colab_type": "text"
      },
      "source": [
        "<a href=\"https://colab.research.google.com/github/fishitmo/LeetCode/blob/main/Longest_Common_prefix.ipynb\" target=\"_parent\"><img src=\"https://colab.research.google.com/assets/colab-badge.svg\" alt=\"Open In Colab\"/></a>"
      ]
    },
    {
      "cell_type": "markdown",
      "source": [
        "## Write a function to find the longest common prefix string amongst an array of strings.\n",
        "\n",
        "If there is no common prefix, return an empty string `\"\"`.\n",
        "\n",
        "**Example 1:**\n",
        "\n",
        "Input: `strs = [\"flower\",\"flow\",\"flight\"]`\n",
        "Output: `\"fl\"`\n",
        "\n",
        "**Example 2:**\n",
        "\n",
        "Input: `strs = [\"dog\",\"racecar\",\"car\"]`\n",
        "Output: `\"\"`\n",
        "Explanation: There is no common prefix among the input strings.\n"
      ],
      "metadata": {
        "id": "mLvWZULpaBxt"
      }
    },
    {
      "cell_type": "code",
      "execution_count": 3,
      "metadata": {
        "id": "MjLFEgWAZn-7"
      },
      "outputs": [],
      "source": [
        "from typing import List\n",
        "class Solution:\n",
        "    def longestCommonPrefix(self, strs: List[str]) -> str:\n",
        "        res = \"\"\n",
        "\n",
        "        for i in range(len(strs[0])):\n",
        "            for s in strs:\n",
        "                if i == len(s) or s[i] !=strs[0][i]:\n",
        "                    return res\n",
        "            res +=strs[0][i]\n",
        "        return res"
      ]
    },
    {
      "cell_type": "code",
      "source": [
        "# Input data\n",
        "\n",
        "input_data = [\n",
        "    [\"flower\", \"flow\", \"flight\"],\n",
        "    ['dog','racecar', 'car']\n",
        "]\n",
        "\n",
        "# Test the solution\n",
        "\n",
        "sol = Solution()\n",
        "for strs in input_data:\n",
        "   print(\"Input: \", strs)\n",
        "   print(\"Output: \", sol.longestCommonPrefix(strs))"
      ],
      "metadata": {
        "colab": {
          "base_uri": "https://localhost:8080/"
        },
        "id": "lKMW_KZTaNbi",
        "outputId": "446364ce-07ef-4a97-e197-408a6d4c5c50"
      },
      "execution_count": 4,
      "outputs": [
        {
          "output_type": "stream",
          "name": "stdout",
          "text": [
            "Input:  ['flower', 'flow', 'flight']\n",
            "Output:  fl\n",
            "Input:  ['dog', 'racecar', 'car']\n",
            "Output:  \n"
          ]
        }
      ]
    }
  ]
}