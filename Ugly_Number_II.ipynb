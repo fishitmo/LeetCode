{
  "nbformat": 4,
  "nbformat_minor": 0,
  "metadata": {
    "colab": {
      "provenance": [],
      "authorship_tag": "ABX9TyNHfkbzrAylIZmt1qEWLhU1",
      "include_colab_link": true
    },
    "kernelspec": {
      "name": "python3",
      "display_name": "Python 3"
    },
    "language_info": {
      "name": "python"
    }
  },
  "cells": [
    {
      "cell_type": "markdown",
      "metadata": {
        "id": "view-in-github",
        "colab_type": "text"
      },
      "source": [
        "<a href=\"https://colab.research.google.com/github/fishitmo/LeetCode/blob/main/Ugly_Number_II.ipynb\" target=\"_parent\"><img src=\"https://colab.research.google.com/assets/colab-badge.svg\" alt=\"Open In Colab\"/></a>"
      ]
    },
    {
      "cell_type": "markdown",
      "source": [
        "An ugly number is a positive integer whose prime factors are limited to 2, 3, and 5.\n",
        "\n",
        "Given an integer `n`, return the `nth` ugly number.\n",
        "\n",
        "**Example 1:**\n",
        "\n",
        "- **Input:** `n = 10`\n",
        "- **Output:** `12`\n",
        "- **Explanation:** `[1, 2, 3, 4, 5, 6, 8, 9, 10, 12]` is the sequence of the first 10 ugly numbers.\n",
        "\n",
        "**Example 2:**\n",
        "\n",
        "- **Input:** `n = 1`\n",
        "- **Output:** `1`\n",
        "- **Explanation:** `1` has no prime factors, therefore all of its prime factors are limited to 2, 3, and 5.\n",
        "\n",
        "**Constraints:**\n",
        "\n",
        "- `1 <= n <= 1690`\n"
      ],
      "metadata": {
        "id": "c_Jut9bqJz9A"
      }
    },
    {
      "cell_type": "code",
      "execution_count": 4,
      "metadata": {
        "id": "jBdcTpLsJakg"
      },
      "outputs": [],
      "source": [
        "class Solution:\n",
        "  def nthUglyNumber(slef, n: int) -> int:\n",
        "    ugly_nums = [1]\n",
        "    i2 , i3, i5 = 0, 0, 0\n",
        "\n",
        "    while len(ugly_nums) < n:\n",
        "\n",
        "        next_ugly = min(ugly_nums[i2]*2, ugly_nums[i3]*3, ugly_nums[i5]*5)\n",
        "\n",
        "        if next_ugly == ugly_nums[i2]*2: i2 += 1\n",
        "\n",
        "        if next_ugly == ugly_nums[i3]*3: i3 +=1\n",
        "\n",
        "        if next_ugly == ugly_nums[i5]*5: i5 +=1\n",
        "\n",
        "        ugly_nums.append(next_ugly)\n",
        "\n",
        "    return ugly_nums[-1]"
      ]
    },
    {
      "cell_type": "code",
      "source": [
        "sol =  Solution()\n",
        "\n",
        "ug = input(\"Enter an integer to get a nth number of Ugly number: \")\n",
        "\n",
        "print(f'The {ug} number og ugly nuber is {sol.nthUglyNumber(int(ug))}')"
      ],
      "metadata": {
        "colab": {
          "base_uri": "https://localhost:8080/"
        },
        "id": "zaDMSHBWMFTj",
        "outputId": "b4b8270a-8080-43a5-b8db-34057e7604cc"
      },
      "execution_count": 9,
      "outputs": [
        {
          "output_type": "stream",
          "name": "stdout",
          "text": [
            "Enter an integer to get a nth number of Ugly number: 10\n",
            "The 10 number og ugly nuber is 12\n"
          ]
        }
      ]
    }
  ]
}