{
  "nbformat": 4,
  "nbformat_minor": 0,
  "metadata": {
    "colab": {
      "provenance": [],
      "authorship_tag": "ABX9TyO/hNsAf2tCgYwNQ28ptALM",
      "include_colab_link": true
    },
    "kernelspec": {
      "name": "python3",
      "display_name": "Python 3"
    },
    "language_info": {
      "name": "python"
    }
  },
  "cells": [
    {
      "cell_type": "markdown",
      "metadata": {
        "id": "view-in-github",
        "colab_type": "text"
      },
      "source": [
        "<a href=\"https://colab.research.google.com/github/fishitmo/LeetCode/blob/main/Power_of_Two.ipynb\" target=\"_parent\"><img src=\"https://colab.research.google.com/assets/colab-badge.svg\" alt=\"Open In Colab\"/></a>"
      ]
    },
    {
      "cell_type": "markdown",
      "source": [
        "Given an integer `n`, return `true` if it is a power of two. Otherwise, return `false`.\n",
        "\n",
        "An integer `n` is a power of two, if there exists an integer `x` such that `n == 2^x`.\n",
        "\n",
        "### Example 1:\n",
        "\n",
        "Input: `n = 1`\n",
        "Output: `true`\n",
        "Explanation: `2^0 = 1`\n",
        "\n",
        "### Example 2:\n",
        "\n",
        "Input: `n = 16`\n",
        "Output: `true`\n",
        "Explanation: `2^4 = 16`\n",
        "\n",
        "### Example 3:\n",
        "\n",
        "Input: `n = 3`\n",
        "Output: `false`\n",
        "\n",
        "Constraints:\n",
        "\n",
        "-2^31 <= `n` <= 2^31 - 1\n",
        "\n",
        "**Follow up:** Could you solve it without loops/recursion?\n"
      ],
      "metadata": {
        "id": "993Wya8l_Djv"
      }
    },
    {
      "cell_type": "code",
      "execution_count": 1,
      "metadata": {
        "id": "L3mHNis9--W9"
      },
      "outputs": [],
      "source": [
        "class Solution:\n",
        "  def isPowerOfTwo(self, n: int) -> bool:\n",
        "    if n<= 0:\n",
        "      return False\n",
        "    return n & (n-1) == 0"
      ]
    },
    {
      "cell_type": "code",
      "source": [
        "sol = Solution()\n",
        "\n",
        "pow = input('Enter an integer to check if it is a power of 2 or not: ')\n",
        "\n",
        "print(f'An integer {pow} is a power of 2: {sol.isPowerOfTwo(int(pow))} ')"
      ],
      "metadata": {
        "colab": {
          "base_uri": "https://localhost:8080/"
        },
        "id": "UDNKRLjo_9mu",
        "outputId": "0815a5a4-b8b8-460a-f5f9-b7871b5bd577"
      },
      "execution_count": 4,
      "outputs": [
        {
          "output_type": "stream",
          "name": "stdout",
          "text": [
            "Enter an integer to check if it is a power of 2 or not: 6\n",
            "An integer 6 is a power of 2: False \n"
          ]
        }
      ]
    }
  ]
}