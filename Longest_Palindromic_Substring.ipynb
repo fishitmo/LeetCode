{
  "nbformat": 4,
  "nbformat_minor": 0,
  "metadata": {
    "colab": {
      "provenance": [],
      "authorship_tag": "ABX9TyO4kL0GFOwQ+r0TH4clVHp0",
      "include_colab_link": true
    },
    "kernelspec": {
      "name": "python3",
      "display_name": "Python 3"
    },
    "language_info": {
      "name": "python"
    }
  },
  "cells": [
    {
      "cell_type": "markdown",
      "metadata": {
        "id": "view-in-github",
        "colab_type": "text"
      },
      "source": [
        "<a href=\"https://colab.research.google.com/github/fishitmo/LeetCode/blob/main/Longest_Palindromic_Substring.ipynb\" target=\"_parent\"><img src=\"https://colab.research.google.com/assets/colab-badge.svg\" alt=\"Open In Colab\"/></a>"
      ]
    },
    {
      "cell_type": "markdown",
      "source": [
        "Given a string s, return the longest\n",
        "palindromic\n",
        "\n",
        "substring\n",
        " in s.\n",
        "\n",
        "\n",
        "\n",
        "**Example 1:**\n",
        "\n",
        "Input: s = \"babad\"\n",
        "Output: \"bab\"\n",
        "Explanation: \"aba\" is also a valid answer.\n",
        "**Example 2:**\n",
        "\n",
        "Input: s = \"cbbd\"\n",
        "Output: \"bb\"\n",
        "\n",
        "\n",
        "**Constraints:**\n",
        "\n",
        "1 <= s.length <= 1000\n",
        "s consist of only digits and English letters.\n"
      ],
      "metadata": {
        "id": "YEqIC-353fjK"
      }
    },
    {
      "cell_type": "code",
      "execution_count": 1,
      "metadata": {
        "id": "uL_YL_2u3QXw"
      },
      "outputs": [],
      "source": [
        "class Solution:\n",
        "  def longestPalindrome(self, s: str) -> str:\n",
        "    if len(s) <= 1:\n",
        "      return s\n",
        "    start = 0\n",
        "    max_length = 1\n",
        "\n",
        "    for i in range(1, len(s)):\n",
        "\n",
        "      odd_length = s[i - max_length -1: i + 1]\n",
        "      even_length = s[i - max_length: i + 1]\n",
        "\n",
        "      if i - max_length - 1 >=0 and odd_length == odd_length[::-1]:\n",
        "        start = i - max_length -1\n",
        "        max_length += 2\n",
        "      elif i - max_length >= 0 and even_length == even_length[::-1]:\n",
        "        start = i - max_length\n",
        "        max_length += 1\n",
        "\n",
        "    return s[start: start + max_length]"
      ]
    },
    {
      "cell_type": "code",
      "source": [
        "sol = Solution()\n",
        "\n",
        "pal = input('Enter the string: ')\n",
        "\n",
        "print(f'The longest palindromic substring in {pal} is {sol.longestPalindrome(pal)}')"
      ],
      "metadata": {
        "colab": {
          "base_uri": "https://localhost:8080/"
        },
        "id": "C_GKla3s7sXA",
        "outputId": "249457e0-8285-42fa-a1a6-9e9243265d9c"
      },
      "execution_count": 3,
      "outputs": [
        {
          "output_type": "stream",
          "name": "stdout",
          "text": [
            "Enter the string: whhsdfghgasdhfghgsdf\n",
            "The longest palindromic substring in whhsdfghgasdhfghgsdf is ghg\n"
          ]
        }
      ]
    }
  ]
}