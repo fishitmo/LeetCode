{
  "nbformat": 4,
  "nbformat_minor": 0,
  "metadata": {
    "colab": {
      "provenance": [],
      "authorship_tag": "ABX9TyNX7Ylh5KM2aP4GjirTc5Bz",
      "include_colab_link": true
    },
    "kernelspec": {
      "name": "python3",
      "display_name": "Python 3"
    },
    "language_info": {
      "name": "python"
    }
  },
  "cells": [
    {
      "cell_type": "markdown",
      "metadata": {
        "id": "view-in-github",
        "colab_type": "text"
      },
      "source": [
        "<a href=\"https://colab.research.google.com/github/fishitmo/LeetCode/blob/main/Search_Insert_Position.ipynb\" target=\"_parent\"><img src=\"https://colab.research.google.com/assets/colab-badge.svg\" alt=\"Open In Colab\"/></a>"
      ]
    },
    {
      "cell_type": "markdown",
      "source": [
        "Given a sorted array of distinct integers and a target value, return the index if the target is found. If not, return the index where it would be if it were inserted in order.\n",
        "\n",
        "You must write an algorithm with O(log n) runtime complexity.\n",
        "\n",
        "**Example 1:**\n",
        "\n",
        "Input: nums = [1,3,5,6], target = 5\n",
        "Output: 2\n",
        "\n",
        "**Example 2:**\n",
        "\n",
        "Input: nums = [1,3,5,6], target = 2\n",
        "Output: 1\n",
        "\n",
        "**Example 3:**\n",
        "\n",
        "Input: nums = [1,3,5,6], target = 7\n",
        "Output: 4\n",
        "\n",
        "**Constraints:**\n",
        "\n",
        "- 1 <= nums.length <= 104\n",
        "- -104 <= nums[i] <= 104\n",
        "- nums contains distinct values sorted in ascending order.\n",
        "- -104 <= target <= 104\n"
      ],
      "metadata": {
        "id": "VRj_OwFGOwcO"
      }
    },
    {
      "cell_type": "code",
      "execution_count": 2,
      "metadata": {
        "id": "89egoiDqOjrc"
      },
      "outputs": [],
      "source": [
        "from typing import List\n",
        "\n",
        "class Solution:\n",
        "    def searchInsert(self, nums: List[int], target: int) -> int:\n",
        "        l,r = 0, len(nums) -1\n",
        "\n",
        "        while l <= r:\n",
        "            mid = (l + r) // 2\n",
        "\n",
        "            if target == nums[mid]:\n",
        "                return mid\n",
        "\n",
        "            if target > nums[mid]:\n",
        "                l = mid + 1\n",
        "            else:\n",
        "                r = mid -1\n",
        "        return l"
      ]
    },
    {
      "cell_type": "code",
      "source": [
        "\n",
        "nums_1 = [1,3,5,6]\n",
        "target_1 = 5\n",
        "\n",
        "\n",
        "nums_2 = [1,3,5,6]\n",
        "target_2 = 1\n",
        "\n",
        "\n",
        "nums_3 = [1,3,5,6]\n",
        "target_3 = 7\n",
        "\n",
        "solution = Solution()\n",
        "\n",
        "output1 = solution.searchInsert(nums_1 , target_1)\n",
        "output2 = solution.searchInsert(nums_2 , target_2)\n",
        "output3 = solution.searchInsert(nums_3 , target_3)\n",
        "\n",
        "print(f'The index of the taget or the index where it would be is : {output1}')\n",
        "print(f'The index of the taget or the index where it would be is : {output2}')\n",
        "print(f'The index of the taget or the index where it would be is : {output3}')"
      ],
      "metadata": {
        "colab": {
          "base_uri": "https://localhost:8080/"
        },
        "id": "Rv8rNfqJPl59",
        "outputId": "30e9094d-eee2-474d-92e7-a3168a21bc3c"
      },
      "execution_count": 4,
      "outputs": [
        {
          "output_type": "stream",
          "name": "stdout",
          "text": [
            "The index of the taget or the index where it would be is : 2\n",
            "The index of the taget or the index where it would be is : 0\n",
            "The index of the taget or the index where it would be is : 4\n"
          ]
        }
      ]
    }
  ]
}