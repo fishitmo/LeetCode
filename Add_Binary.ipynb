{
  "nbformat": 4,
  "nbformat_minor": 0,
  "metadata": {
    "colab": {
      "provenance": [],
      "authorship_tag": "ABX9TyMdZkeJwsj2yd6klNh2eTEP",
      "include_colab_link": true
    },
    "kernelspec": {
      "name": "python3",
      "display_name": "Python 3"
    },
    "language_info": {
      "name": "python"
    }
  },
  "cells": [
    {
      "cell_type": "markdown",
      "metadata": {
        "id": "view-in-github",
        "colab_type": "text"
      },
      "source": [
        "<a href=\"https://colab.research.google.com/github/fishitmo/LeetCode/blob/main/Add_Binary.ipynb\" target=\"_parent\"><img src=\"https://colab.research.google.com/assets/colab-badge.svg\" alt=\"Open In Colab\"/></a>"
      ]
    },
    {
      "cell_type": "markdown",
      "source": [
        "Given two binary strings `a` and `b`, return their sum as a binary string.\n",
        "\n",
        "**Example 1:**\n",
        "\n",
        "```\n",
        "Input: a = \"11\", b = \"1\"\n",
        "Output: \"100\"\n",
        "```\n",
        "\n",
        "**Example 2:**\n",
        "\n",
        "```\n",
        "Input: a = \"1010\", b = \"1011\"\n",
        "Output: \"10101\"\n",
        "```\n",
        "\n",
        "**Constraints:**\n",
        "\n",
        "- 1 <= a.length, b.length <= 10^4\n",
        "- `a` and `b` consist only of '0' or '1' characters.\n",
        "- Each string does not contain leading zeros except for the zero itself.\n"
      ],
      "metadata": {
        "id": "IvX9gvUSuk_a"
      }
    },
    {
      "cell_type": "code",
      "execution_count": 1,
      "metadata": {
        "id": "_LoiD_o_ud3F"
      },
      "outputs": [],
      "source": [
        "class Solution:\n",
        "    def addBinary(self, a: str, b: str) -> str:\n",
        "        res = ''\n",
        "        carry = 0\n",
        "\n",
        "        a, b = a[::-1], b[::-1]\n",
        "\n",
        "        for i in range(max(len(a), len(b))):\n",
        "            digitA = ord(a[i]) - ord('0') if i < len(a) else 0\n",
        "            digitB = ord(b[i]) - ord('0') if i < len(b) else 0\n",
        "\n",
        "            total = digitA + digitB + carry\n",
        "            char = str(total % 2)\n",
        "            res = char + res\n",
        "            carry = total//2\n",
        "        if carry:\n",
        "            res = '1' + res\n",
        "        return res"
      ]
    }
  ]
}