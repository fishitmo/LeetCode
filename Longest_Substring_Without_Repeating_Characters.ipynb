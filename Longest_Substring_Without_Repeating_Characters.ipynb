{
  "nbformat": 4,
  "nbformat_minor": 0,
  "metadata": {
    "colab": {
      "provenance": [],
      "authorship_tag": "ABX9TyOYNpi8+GYCteyhBiDjcLQX",
      "include_colab_link": true
    },
    "kernelspec": {
      "name": "python3",
      "display_name": "Python 3"
    },
    "language_info": {
      "name": "python"
    }
  },
  "cells": [
    {
      "cell_type": "markdown",
      "metadata": {
        "id": "view-in-github",
        "colab_type": "text"
      },
      "source": [
        "<a href=\"https://colab.research.google.com/github/fishitmo/LeetCode/blob/main/Longest_Substring_Without_Repeating_Characters.ipynb\" target=\"_parent\"><img src=\"https://colab.research.google.com/assets/colab-badge.svg\" alt=\"Open In Colab\"/></a>"
      ]
    },
    {
      "cell_type": "markdown",
      "source": [
        "Given a string s, find the length of the longest substring without repeating characters.\n",
        "\n",
        "Example 1:\n",
        "\n",
        "Input: s = \"abcabcbb\"\n",
        "Output: 3\n",
        "Explanation: The answer is \"abc\", with the length of 3.\n",
        "Example 2:\n",
        "\n",
        "Input: s = \"bbbbb\"\n",
        "Output: 1\n",
        "Explanation: The answer is \"b\", with the length of 1.\n",
        "Example 3:\n",
        "\n",
        "Input: s = \"pwwkew\"\n",
        "Output: 3\n",
        "Explanation: The answer is \"wke\", with the length of 3.\n",
        "Notice that the answer must be a substring, \"pwke\" is a subsequence and not a substring.\n",
        "\n",
        "Constraints:\n",
        "\n",
        "0 <= s.length <= 5 * 104\n",
        "s consists of English letters, digits, symbols and spaces.\n"
      ],
      "metadata": {
        "id": "VKhlO-CsDfSx"
      }
    },
    {
      "cell_type": "code",
      "execution_count": 1,
      "metadata": {
        "id": "b9lr3QzFDKmO"
      },
      "outputs": [],
      "source": [
        "class Solution:\n",
        "  def lengthOfLongestSubstring(self, s: str) -> int:\n",
        "    char_index = dict()\n",
        "\n",
        "    max_length = 0\n",
        "    left = 0\n",
        "\n",
        "    for right in range(len(s)):\n",
        "\n",
        "      if s[right] in char_index and char_index[s[right]] >= left:\n",
        "        left = char_index[s[right]] + 1\n",
        "\n",
        "      char_index[s[right]] = right\n",
        "\n",
        "      max_length = max(max_length, right - left + 1)\n",
        "    return max_length"
      ]
    },
    {
      "cell_type": "code",
      "source": [
        "sol = Solution()\n",
        "strin = input('Enter the string')\n",
        "\n",
        "print(f'The length of the longest substring from the string {strin} is {sol.lengthOfLongestSubstring(strin)} ')"
      ],
      "metadata": {
        "colab": {
          "base_uri": "https://localhost:8080/"
        },
        "id": "zyBUkGcTldQk",
        "outputId": "28b58c2c-a157-4f55-eaec-a59c81eaaff4"
      },
      "execution_count": 4,
      "outputs": [
        {
          "output_type": "stream",
          "name": "stdout",
          "text": [
            "Enter the stringasdfjhkjhasdfjkhjkgajkshdfhjkasdfkjhjhasjdfjkfhjkhasdf\n",
            "The length of the longest substring from the string asdfjhkjhasdfjkhjkgajkshdfhjkasdfkjhjhasjdfjkfhjkhasdf is 8 \n"
          ]
        }
      ]
    }
  ]
}